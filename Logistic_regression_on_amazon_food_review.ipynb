{
 "cells": [
  {
   "cell_type": "markdown",
   "metadata": {},
   "source": [
    "# Logistic Regression On Amazon Fine Food Reviews"
   ]
  },
  {
   "cell_type": "markdown",
   "metadata": {},
   "source": [
    "The Amazon Fine Food Reviews dataset consists of reviews of fine foods from Amazon.<br>\n",
    "\n",
    "Number of reviews: 568,454<br>\n",
    "Number of users: 256,059<br>\n",
    "Number of products: 74,258<br>\n",
    "Timespan: Oct 1999 - Oct 2012<br>\n",
    "Number of Attributes/Columns in data: 10 \n",
    "\n",
    "Attribute Information:\n",
    "\n",
    "1. Id\n",
    "2. ProductId - unique identifier for the product\n",
    "3. UserId - unqiue identifier for the user\n",
    "4. ProfileName\n",
    "5. HelpfulnessNumerator - number of users who found the review helpful\n",
    "6. HelpfulnessDenominator - number of users who indicated whether they found the review helpful or not\n",
    "7. Score - rating between 1 and 5\n",
    "8. Time - timestamp for the review\n",
    "9. Summary - brief summary of the review\n",
    "10. Text - text of the review\n"
   ]
  },
  {
   "cell_type": "markdown",
   "metadata": {},
   "source": [
    "### Objective\n",
    "* To classify the positive and negative reviews.\n",
    "\n",
    "###  How to classify?\n",
    "* By applying vectorization techniques such as BOW, TF-IDF ,Avg W2V , Tf-Idf weighted W2V.\n",
    "* Applying Logistic regression on above vectors. \n",
    "* Column used to check the Acuracy will be Score.\n",
    "  - Positive review (rating 4-5)\n",
    "  - Negative review (rating 1-2)"
   ]
  },
  {
   "cell_type": "markdown",
   "metadata": {},
   "source": [
    "## Loading Data"
   ]
  },
  {
   "cell_type": "code",
   "execution_count": 1,
   "metadata": {},
   "outputs": [
    {
     "name": "stdout",
     "output_type": "stream",
     "text": [
      "Review data is loaded with 525814 rows and 10 columns\n"
     ]
    },
    {
     "data": {
      "text/html": [
       "<div>\n",
       "<style scoped>\n",
       "    .dataframe tbody tr th:only-of-type {\n",
       "        vertical-align: middle;\n",
       "    }\n",
       "\n",
       "    .dataframe tbody tr th {\n",
       "        vertical-align: top;\n",
       "    }\n",
       "\n",
       "    .dataframe thead th {\n",
       "        text-align: right;\n",
       "    }\n",
       "</style>\n",
       "<table border=\"1\" class=\"dataframe\">\n",
       "  <thead>\n",
       "    <tr style=\"text-align: right;\">\n",
       "      <th></th>\n",
       "      <th>Id</th>\n",
       "      <th>ProductId</th>\n",
       "      <th>UserId</th>\n",
       "      <th>ProfileName</th>\n",
       "      <th>HelpfulnessNumerator</th>\n",
       "      <th>HelpfulnessDenominator</th>\n",
       "      <th>Score</th>\n",
       "      <th>Time</th>\n",
       "      <th>Summary</th>\n",
       "      <th>Text</th>\n",
       "    </tr>\n",
       "  </thead>\n",
       "  <tbody>\n",
       "    <tr>\n",
       "      <th>0</th>\n",
       "      <td>1</td>\n",
       "      <td>B001E4KFG0</td>\n",
       "      <td>A3SGXH7AUHU8GW</td>\n",
       "      <td>delmartian</td>\n",
       "      <td>1</td>\n",
       "      <td>1</td>\n",
       "      <td>1</td>\n",
       "      <td>1303862400</td>\n",
       "      <td>Good Quality Dog Food</td>\n",
       "      <td>I have bought several of the Vitality canned d...</td>\n",
       "    </tr>\n",
       "    <tr>\n",
       "      <th>1</th>\n",
       "      <td>2</td>\n",
       "      <td>B00813GRG4</td>\n",
       "      <td>A1D87F6ZCVE5NK</td>\n",
       "      <td>dll pa</td>\n",
       "      <td>0</td>\n",
       "      <td>0</td>\n",
       "      <td>0</td>\n",
       "      <td>1346976000</td>\n",
       "      <td>Not as Advertised</td>\n",
       "      <td>Product arrived labeled as Jumbo Salted Peanut...</td>\n",
       "    </tr>\n",
       "    <tr>\n",
       "      <th>2</th>\n",
       "      <td>3</td>\n",
       "      <td>B000LQOCH0</td>\n",
       "      <td>ABXLMWJIXXAIN</td>\n",
       "      <td>Natalia Corres \"Natalia Corres\"</td>\n",
       "      <td>1</td>\n",
       "      <td>1</td>\n",
       "      <td>1</td>\n",
       "      <td>1219017600</td>\n",
       "      <td>\"Delight\" says it all</td>\n",
       "      <td>This is a confection that has been around a fe...</td>\n",
       "    </tr>\n",
       "    <tr>\n",
       "      <th>3</th>\n",
       "      <td>4</td>\n",
       "      <td>B000UA0QIQ</td>\n",
       "      <td>A395BORC6FGVXV</td>\n",
       "      <td>Karl</td>\n",
       "      <td>3</td>\n",
       "      <td>3</td>\n",
       "      <td>0</td>\n",
       "      <td>1307923200</td>\n",
       "      <td>Cough Medicine</td>\n",
       "      <td>If you are looking for the secret ingredient i...</td>\n",
       "    </tr>\n",
       "    <tr>\n",
       "      <th>4</th>\n",
       "      <td>5</td>\n",
       "      <td>B006K2ZZ7K</td>\n",
       "      <td>A1UQRSCLF8GW1T</td>\n",
       "      <td>Michael D. Bigham \"M. Wassir\"</td>\n",
       "      <td>0</td>\n",
       "      <td>0</td>\n",
       "      <td>1</td>\n",
       "      <td>1350777600</td>\n",
       "      <td>Great taffy</td>\n",
       "      <td>Great taffy at a great price.  There was a wid...</td>\n",
       "    </tr>\n",
       "  </tbody>\n",
       "</table>\n",
       "</div>"
      ],
      "text/plain": [
       "   Id   ProductId          UserId                      ProfileName  \\\n",
       "0   1  B001E4KFG0  A3SGXH7AUHU8GW                       delmartian   \n",
       "1   2  B00813GRG4  A1D87F6ZCVE5NK                           dll pa   \n",
       "2   3  B000LQOCH0   ABXLMWJIXXAIN  Natalia Corres \"Natalia Corres\"   \n",
       "3   4  B000UA0QIQ  A395BORC6FGVXV                             Karl   \n",
       "4   5  B006K2ZZ7K  A1UQRSCLF8GW1T    Michael D. Bigham \"M. Wassir\"   \n",
       "\n",
       "   HelpfulnessNumerator  HelpfulnessDenominator  Score        Time  \\\n",
       "0                     1                       1      1  1303862400   \n",
       "1                     0                       0      0  1346976000   \n",
       "2                     1                       1      1  1219017600   \n",
       "3                     3                       3      0  1307923200   \n",
       "4                     0                       0      1  1350777600   \n",
       "\n",
       "                 Summary                                               Text  \n",
       "0  Good Quality Dog Food  I have bought several of the Vitality canned d...  \n",
       "1      Not as Advertised  Product arrived labeled as Jumbo Salted Peanut...  \n",
       "2  \"Delight\" says it all  This is a confection that has been around a fe...  \n",
       "3         Cough Medicine  If you are looking for the secret ingredient i...  \n",
       "4            Great taffy  Great taffy at a great price.  There was a wid...  "
      ]
     },
     "execution_count": 1,
     "metadata": {},
     "output_type": "execute_result"
    }
   ],
   "source": [
    "%matplotlib inline\n",
    "import warnings as wr\n",
    "wr.filterwarnings('ignore')\n",
    "\n",
    "import sqlite3\n",
    "import pandas as pd\n",
    "import numpy as np\n",
    "import matplotlib.pyplot as plt\n",
    "\n",
    "con = sqlite3.connect('database.sqlite') #building connnection with database\n",
    "review_data = pd.read_sql_query('''select * from Reviews where Score != 3''',con)#importing data from database\n",
    "\n",
    "#function to replace rating with 1(+ve) or 0(-ve)\n",
    "def Replace_rate(x):\n",
    "    if x < 3:\n",
    "        return 0\n",
    "    else:\n",
    "        return 1\n",
    "\n",
    "OldScore = review_data['Score']\n",
    "NewScore = OldScore.map(Replace_rate)\n",
    "review_data['Score'] = NewScore\n",
    "print('Review data is loaded with {0} rows and {1} columns'.format(review_data.shape[0],review_data.shape[1]))\n",
    "review_data.head()\n",
    "\n"
   ]
  },
  {
   "cell_type": "markdown",
   "metadata": {},
   "source": [
    "## Data Preprocessing"
   ]
  },
  {
   "cell_type": "markdown",
   "metadata": {},
   "source": [
    "### Removing duplicate data"
   ]
  },
  {
   "cell_type": "code",
   "execution_count": 2,
   "metadata": {},
   "outputs": [
    {
     "data": {
      "text/plain": [
       "(75346, 7)"
      ]
     },
     "execution_count": 2,
     "metadata": {},
     "output_type": "execute_result"
    }
   ],
   "source": [
    "#Checking for duplicate data \n",
    "duplicate_data = pd.read_sql_query('''select UserId, ProductId, ProfileName, Time, Score, Text, count(*) as count from Reviews where \n",
    "Score != 3 group by UserId having count(*) > 1 ''',con)\n",
    "\n",
    "duplicate_data.shape"
   ]
  },
  {
   "cell_type": "code",
   "execution_count": 3,
   "metadata": {},
   "outputs": [
    {
     "name": "stdout",
     "output_type": "stream",
     "text": [
      "Data before de-duplication had 525814 rows and 10 columns\n",
      "Data after de-duplication had 364173 rows and 10 columns\n"
     ]
    }
   ],
   "source": [
    "#removing duplicate data\n",
    "print('Data before de-duplication had {} rows and {} columns'.format(review_data.shape[0],review_data.shape[1]))\n",
    "review_data = review_data.sort_values('ProductId',axis = 0, ascending=True, inplace=False, kind='quicksort', na_position='last')\n",
    "\n",
    "review_data = review_data.drop_duplicates(subset={\"UserId\",\"ProfileName\",\"Time\",\"Text\"}, keep='first', inplace=False)\n",
    "print('Data after de-duplication had {} rows and {} columns'.format(review_data.shape[0],review_data.shape[1]))"
   ]
  },
  {
   "cell_type": "code",
   "execution_count": 4,
   "metadata": {},
   "outputs": [
    {
     "data": {
      "text/plain": [
       "(364171, 10)"
      ]
     },
     "execution_count": 4,
     "metadata": {},
     "output_type": "execute_result"
    }
   ],
   "source": [
    "# Helpfulness denominator should be always greater than numerator\n",
    "review_data = review_data[review_data.HelpfulnessNumerator <= review_data.HelpfulnessDenominator]\n",
    "review_data.shape"
   ]
  },
  {
   "cell_type": "markdown",
   "metadata": {},
   "source": [
    "### Cleaning the data\n",
    "* Removing html tags\n",
    "* Removing stopwords\n",
    "* Converting words to lower case\n",
    "* Removing alphanumeric value \n",
    "* Lemmitizing the data"
   ]
  },
  {
   "cell_type": "code",
   "execution_count": 7,
   "metadata": {
    "scrolled": false
   },
   "outputs": [
    {
     "name": "stderr",
     "output_type": "stream",
     "text": [
      "100%|████████████████████████████████████████████████████████████████████████| 364171/364171 [05:42<00:00, 1062.13it/s]\n"
     ]
    }
   ],
   "source": [
    "import re\n",
    "import os\n",
    "import nltk\n",
    "import string\n",
    "from tqdm import tqdm\n",
    "from nltk.corpus import stopwords \n",
    "\n",
    "sno = nltk.stem.SnowballStemmer('english')#initialise stemmer\n",
    "stop = set(stopwords.words('english'))\n",
    "\n",
    "def cleanhtml(sentence): #function to clean the word of any html-tags\n",
    "    cleanr = re.compile('<.*?>')\n",
    "    cleantext = re.sub(cleanr, ' ', sentence)\n",
    "    return cleantext\n",
    "\n",
    "def cleanpunc(sentence): #function to clean the word of any punctuation or special characters\n",
    "    cleaned = re.sub(r'[?|!|\\'|\"|#]',r'',sentence)\n",
    "    cleaned = re.sub(r'[.|,|)|(|\\|/]',r' ',cleaned)\n",
    "    return  cleaned\n",
    "\n",
    "\n",
    "if not os.path.isfile('final.sqlite'):\n",
    "    final_string = []\n",
    "    for i, sent in enumerate(tqdm(review_data['Text'].values)):\n",
    "        filtered_sentence=[]\n",
    "        sent = cleanhtml(sent)\n",
    "        for w in sent.split():\n",
    "            for cleanwords in cleanpunc(w).split():\n",
    "                #we are spliting the data two time because after first splitting there may be a possibility that we can get a word\n",
    "                # 'abc.def' which after the second split will become two words 'abc' 'def'\n",
    "                if((cleanwords.isalpha()) and (len(cleanwords)>2)): # there is no adjective with length 2\n",
    "                    if(cleanwords.lower() not in stop):\n",
    "                        s=(sno.stem(cleanwords.lower())).encode('utf8')\n",
    "                        filtered_sentence.append(s)\n",
    "        str1 = b\" \".join(filtered_sentence)\n",
    "        final_string.append(str1)\n",
    "        "
   ]
  },
  {
   "cell_type": "code",
   "execution_count": 8,
   "metadata": {},
   "outputs": [],
   "source": [
    "#storing the data in a database(.sqlite file)\n",
    "review_data['CleanedText'] = final_string\n",
    "review_data['CleanedText']=review_data['CleanedText'].str.decode(\"utf-8\")\n",
    "conn = sqlite3.connect('final.sqlite')\n",
    "c = conn.cursor()\n",
    "conn.text_factory = str\n",
    "review_data.to_sql('Reviews', conn,  schema=None, if_exists='replace', \\\n",
    "                 index=True, index_label=None, chunksize=None, dtype=None)\n",
    "conn.close()"
   ]
  },
  {
   "cell_type": "code",
   "execution_count": 9,
   "metadata": {},
   "outputs": [
    {
     "name": "stdout",
     "output_type": "stream",
     "text": [
      "(100000, 12)\n"
     ]
    },
    {
     "data": {
      "text/html": [
       "<div>\n",
       "<style scoped>\n",
       "    .dataframe tbody tr th:only-of-type {\n",
       "        vertical-align: middle;\n",
       "    }\n",
       "\n",
       "    .dataframe tbody tr th {\n",
       "        vertical-align: top;\n",
       "    }\n",
       "\n",
       "    .dataframe thead th {\n",
       "        text-align: right;\n",
       "    }\n",
       "</style>\n",
       "<table border=\"1\" class=\"dataframe\">\n",
       "  <thead>\n",
       "    <tr style=\"text-align: right;\">\n",
       "      <th></th>\n",
       "      <th>index</th>\n",
       "      <th>Id</th>\n",
       "      <th>ProductId</th>\n",
       "      <th>UserId</th>\n",
       "      <th>ProfileName</th>\n",
       "      <th>HelpfulnessNumerator</th>\n",
       "      <th>HelpfulnessDenominator</th>\n",
       "      <th>Score</th>\n",
       "      <th>Time</th>\n",
       "      <th>Summary</th>\n",
       "      <th>Text</th>\n",
       "      <th>CleanedText</th>\n",
       "    </tr>\n",
       "  </thead>\n",
       "  <tbody>\n",
       "    <tr>\n",
       "      <th>0</th>\n",
       "      <td>138706</td>\n",
       "      <td>150524</td>\n",
       "      <td>0006641040</td>\n",
       "      <td>ACITT7DI6IDDL</td>\n",
       "      <td>shari zychinski</td>\n",
       "      <td>0</td>\n",
       "      <td>0</td>\n",
       "      <td>1</td>\n",
       "      <td>939340800</td>\n",
       "      <td>EVERY book is educational</td>\n",
       "      <td>this witty little book makes my son laugh at l...</td>\n",
       "      <td>witti littl book make son laugh loud recit car...</td>\n",
       "    </tr>\n",
       "    <tr>\n",
       "      <th>1</th>\n",
       "      <td>138688</td>\n",
       "      <td>150506</td>\n",
       "      <td>0006641040</td>\n",
       "      <td>A2IW4PEEKO2R0U</td>\n",
       "      <td>Tracy</td>\n",
       "      <td>1</td>\n",
       "      <td>1</td>\n",
       "      <td>1</td>\n",
       "      <td>1194739200</td>\n",
       "      <td>Love the book, miss the hard cover version</td>\n",
       "      <td>I grew up reading these Sendak books, and watc...</td>\n",
       "      <td>grew read sendak book watch realli rosi movi i...</td>\n",
       "    </tr>\n",
       "    <tr>\n",
       "      <th>2</th>\n",
       "      <td>138689</td>\n",
       "      <td>150507</td>\n",
       "      <td>0006641040</td>\n",
       "      <td>A1S4A3IQ2MU7V4</td>\n",
       "      <td>sally sue \"sally sue\"</td>\n",
       "      <td>1</td>\n",
       "      <td>1</td>\n",
       "      <td>1</td>\n",
       "      <td>1191456000</td>\n",
       "      <td>chicken soup with rice months</td>\n",
       "      <td>This is a fun way for children to learn their ...</td>\n",
       "      <td>fun way children learn month year learn poem t...</td>\n",
       "    </tr>\n",
       "    <tr>\n",
       "      <th>3</th>\n",
       "      <td>138690</td>\n",
       "      <td>150508</td>\n",
       "      <td>0006641040</td>\n",
       "      <td>AZGXZ2UUK6X</td>\n",
       "      <td>Catherine Hallberg \"(Kate)\"</td>\n",
       "      <td>1</td>\n",
       "      <td>1</td>\n",
       "      <td>1</td>\n",
       "      <td>1076025600</td>\n",
       "      <td>a good swingy rhythm for reading aloud</td>\n",
       "      <td>This is a great little book to read aloud- it ...</td>\n",
       "      <td>great littl book read nice rhythm well good re...</td>\n",
       "    </tr>\n",
       "    <tr>\n",
       "      <th>4</th>\n",
       "      <td>138691</td>\n",
       "      <td>150509</td>\n",
       "      <td>0006641040</td>\n",
       "      <td>A3CMRKGE0P909G</td>\n",
       "      <td>Teresa</td>\n",
       "      <td>3</td>\n",
       "      <td>4</td>\n",
       "      <td>1</td>\n",
       "      <td>1018396800</td>\n",
       "      <td>A great way to learn the months</td>\n",
       "      <td>This is a book of poetry about the months of t...</td>\n",
       "      <td>book poetri month year goe month cute littl po...</td>\n",
       "    </tr>\n",
       "  </tbody>\n",
       "</table>\n",
       "</div>"
      ],
      "text/plain": [
       "    index      Id   ProductId          UserId                  ProfileName  \\\n",
       "0  138706  150524  0006641040   ACITT7DI6IDDL              shari zychinski   \n",
       "1  138688  150506  0006641040  A2IW4PEEKO2R0U                        Tracy   \n",
       "2  138689  150507  0006641040  A1S4A3IQ2MU7V4        sally sue \"sally sue\"   \n",
       "3  138690  150508  0006641040     AZGXZ2UUK6X  Catherine Hallberg \"(Kate)\"   \n",
       "4  138691  150509  0006641040  A3CMRKGE0P909G                       Teresa   \n",
       "\n",
       "   HelpfulnessNumerator  HelpfulnessDenominator  Score        Time  \\\n",
       "0                     0                       0      1   939340800   \n",
       "1                     1                       1      1  1194739200   \n",
       "2                     1                       1      1  1191456000   \n",
       "3                     1                       1      1  1076025600   \n",
       "4                     3                       4      1  1018396800   \n",
       "\n",
       "                                      Summary  \\\n",
       "0                   EVERY book is educational   \n",
       "1  Love the book, miss the hard cover version   \n",
       "2               chicken soup with rice months   \n",
       "3      a good swingy rhythm for reading aloud   \n",
       "4             A great way to learn the months   \n",
       "\n",
       "                                                Text  \\\n",
       "0  this witty little book makes my son laugh at l...   \n",
       "1  I grew up reading these Sendak books, and watc...   \n",
       "2  This is a fun way for children to learn their ...   \n",
       "3  This is a great little book to read aloud- it ...   \n",
       "4  This is a book of poetry about the months of t...   \n",
       "\n",
       "                                         CleanedText  \n",
       "0  witti littl book make son laugh loud recit car...  \n",
       "1  grew read sendak book watch realli rosi movi i...  \n",
       "2  fun way children learn month year learn poem t...  \n",
       "3  great littl book read nice rhythm well good re...  \n",
       "4  book poetri month year goe month cute littl po...  "
      ]
     },
     "execution_count": 9,
     "metadata": {},
     "output_type": "execute_result"
    }
   ],
   "source": [
    "#importing preprocessed data into a new dataframe\n",
    "conn = sqlite3.connect('final.sqlite')\n",
    "preprocessed_data = pd.read_sql_query('''select * from Reviews limit 100000''',conn)\n",
    "print(preprocessed_data.shape)\n",
    "preprocessed_data.head()"
   ]
  },
  {
   "cell_type": "code",
   "execution_count": 10,
   "metadata": {},
   "outputs": [],
   "source": [
    "#https://www.programiz.com/python-programming/datetime/strftime\n",
    "#converting given time with format %m/%d/%Y, %H:%M:%S\n",
    "from datetime import datetime\n",
    "\n",
    "timestamp = preprocessed_data['Time']\n",
    "time_data=[]\n",
    "for i in timestamp:\n",
    "    date_time = datetime.fromtimestamp(i)\n",
    "    d = date_time.strftime(\"%m/%d/%Y, %H:%M:%S\")\n",
    "    time_data.append(d)\n",
    "\n",
    "preprocessed_data['Time'] = time_data"
   ]
  },
  {
   "cell_type": "code",
   "execution_count": 11,
   "metadata": {},
   "outputs": [
    {
     "data": {
      "text/html": [
       "<div>\n",
       "<style scoped>\n",
       "    .dataframe tbody tr th:only-of-type {\n",
       "        vertical-align: middle;\n",
       "    }\n",
       "\n",
       "    .dataframe tbody tr th {\n",
       "        vertical-align: top;\n",
       "    }\n",
       "\n",
       "    .dataframe thead th {\n",
       "        text-align: right;\n",
       "    }\n",
       "</style>\n",
       "<table border=\"1\" class=\"dataframe\">\n",
       "  <thead>\n",
       "    <tr style=\"text-align: right;\">\n",
       "      <th></th>\n",
       "      <th>index</th>\n",
       "      <th>Id</th>\n",
       "      <th>ProductId</th>\n",
       "      <th>UserId</th>\n",
       "      <th>ProfileName</th>\n",
       "      <th>HelpfulnessNumerator</th>\n",
       "      <th>HelpfulnessDenominator</th>\n",
       "      <th>Score</th>\n",
       "      <th>Time</th>\n",
       "      <th>Summary</th>\n",
       "      <th>Text</th>\n",
       "      <th>CleanedText</th>\n",
       "    </tr>\n",
       "  </thead>\n",
       "  <tbody>\n",
       "    <tr>\n",
       "      <th>0</th>\n",
       "      <td>516061</td>\n",
       "      <td>557949</td>\n",
       "      <td>B0000DJDL4</td>\n",
       "      <td>A1Y20KNCR0SZA1</td>\n",
       "      <td>Dessartfamily \"grandmasoven\"</td>\n",
       "      <td>8</td>\n",
       "      <td>9</td>\n",
       "      <td>1</td>\n",
       "      <td>01/01/2004, 05:30:00</td>\n",
       "      <td>The best Kringles ever</td>\n",
       "      <td>Others try to make kringles but there is only ...</td>\n",
       "      <td>other tri make kringl one bakeri make real dan...</td>\n",
       "    </tr>\n",
       "    <tr>\n",
       "      <th>1</th>\n",
       "      <td>77542</td>\n",
       "      <td>84346</td>\n",
       "      <td>B0000DGF5S</td>\n",
       "      <td>AQDTYG93O2WYO</td>\n",
       "      <td>Paul L. Bardzik</td>\n",
       "      <td>15</td>\n",
       "      <td>16</td>\n",
       "      <td>0</td>\n",
       "      <td>01/01/2006, 05:30:00</td>\n",
       "      <td>Broken pot</td>\n",
       "      <td>Not sure if the plant is going to survive, The...</td>\n",
       "      <td>sure plant go surviv pot broken open box yet s...</td>\n",
       "    </tr>\n",
       "    <tr>\n",
       "      <th>2</th>\n",
       "      <td>309826</td>\n",
       "      <td>335493</td>\n",
       "      <td>B0002HVDNY</td>\n",
       "      <td>A3FVAWZNKW9GX</td>\n",
       "      <td>A.Trendl HungarianBookstore.com \"What should ...</td>\n",
       "      <td>1</td>\n",
       "      <td>2</td>\n",
       "      <td>1</td>\n",
       "      <td>01/01/2006, 05:30:00</td>\n",
       "      <td>Slowly Smoked Pork is Delicious</td>\n",
       "      <td>I buy Karaj Hungarian Pork Loin regularly at o...</td>\n",
       "      <td>buy karaj hungarian pork loin regular local hu...</td>\n",
       "    </tr>\n",
       "    <tr>\n",
       "      <th>3</th>\n",
       "      <td>242022</td>\n",
       "      <td>262487</td>\n",
       "      <td>B0007KLGC4</td>\n",
       "      <td>A2RV24L38GOIGT</td>\n",
       "      <td>Mark L. White</td>\n",
       "      <td>8</td>\n",
       "      <td>9</td>\n",
       "      <td>1</td>\n",
       "      <td>01/01/2006, 05:30:00</td>\n",
       "      <td>best candy</td>\n",
       "      <td>Mallo Cup candy is the best candy that has eve...</td>\n",
       "      <td>mallo cup candi best candi ever made put marke...</td>\n",
       "    </tr>\n",
       "    <tr>\n",
       "      <th>4</th>\n",
       "      <td>208995</td>\n",
       "      <td>226507</td>\n",
       "      <td>B000A3I3BA</td>\n",
       "      <td>A7GXT5V1VL5UT</td>\n",
       "      <td>J. Leigh \"jleigh7\"</td>\n",
       "      <td>74</td>\n",
       "      <td>75</td>\n",
       "      <td>1</td>\n",
       "      <td>01/01/2006, 05:30:00</td>\n",
       "      <td>Major time and effort saver</td>\n",
       "      <td>REMEMBER THE OLD WAY OF STIRRING PEANUT BUTTER...</td>\n",
       "      <td>rememb old way stir peanut butter think youv e...</td>\n",
       "    </tr>\n",
       "  </tbody>\n",
       "</table>\n",
       "</div>"
      ],
      "text/plain": [
       "    index      Id   ProductId          UserId  \\\n",
       "0  516061  557949  B0000DJDL4  A1Y20KNCR0SZA1   \n",
       "1   77542   84346  B0000DGF5S   AQDTYG93O2WYO   \n",
       "2  309826  335493  B0002HVDNY   A3FVAWZNKW9GX   \n",
       "3  242022  262487  B0007KLGC4  A2RV24L38GOIGT   \n",
       "4  208995  226507  B000A3I3BA   A7GXT5V1VL5UT   \n",
       "\n",
       "                                        ProfileName  HelpfulnessNumerator  \\\n",
       "0                      Dessartfamily \"grandmasoven\"                     8   \n",
       "1                                   Paul L. Bardzik                    15   \n",
       "2  A.Trendl HungarianBookstore.com \"What should ...                     1   \n",
       "3                                     Mark L. White                     8   \n",
       "4                                J. Leigh \"jleigh7\"                    74   \n",
       "\n",
       "   HelpfulnessDenominator  Score                  Time  \\\n",
       "0                       9      1  01/01/2004, 05:30:00   \n",
       "1                      16      0  01/01/2006, 05:30:00   \n",
       "2                       2      1  01/01/2006, 05:30:00   \n",
       "3                       9      1  01/01/2006, 05:30:00   \n",
       "4                      75      1  01/01/2006, 05:30:00   \n",
       "\n",
       "                           Summary  \\\n",
       "0           The best Kringles ever   \n",
       "1                       Broken pot   \n",
       "2  Slowly Smoked Pork is Delicious   \n",
       "3                       best candy   \n",
       "4      Major time and effort saver   \n",
       "\n",
       "                                                Text  \\\n",
       "0  Others try to make kringles but there is only ...   \n",
       "1  Not sure if the plant is going to survive, The...   \n",
       "2  I buy Karaj Hungarian Pork Loin regularly at o...   \n",
       "3  Mallo Cup candy is the best candy that has eve...   \n",
       "4  REMEMBER THE OLD WAY OF STIRRING PEANUT BUTTER...   \n",
       "\n",
       "                                         CleanedText  \n",
       "0  other tri make kringl one bakeri make real dan...  \n",
       "1  sure plant go surviv pot broken open box yet s...  \n",
       "2  buy karaj hungarian pork loin regular local hu...  \n",
       "3  mallo cup candi best candi ever made put marke...  \n",
       "4  rememb old way stir peanut butter think youv e...  "
      ]
     },
     "execution_count": 11,
     "metadata": {},
     "output_type": "execute_result"
    }
   ],
   "source": [
    "#sorting values according to time\n",
    "processed_data = preprocessed_data.sort_values('Time',axis=0).reset_index(drop=True)\n",
    "processed_data.head()"
   ]
  },
  {
   "cell_type": "markdown",
   "metadata": {},
   "source": [
    "### Splitting Data Based on Time"
   ]
  },
  {
   "cell_type": "code",
   "execution_count": 12,
   "metadata": {},
   "outputs": [],
   "source": [
    "#splitting the data into train and test set\n",
    "import math\n",
    "%matplotlib inline\n",
    "import warnings as wr\n",
    "wr.filterwarnings('ignore')\n",
    "\n",
    "from sklearn.model_selection import train_test_split\n",
    "\n",
    "X = processed_data['CleanedText']\n",
    "Y = processed_data['Score']\n",
    "x_train, x_test, y_train, y_test = train_test_split(X, Y, test_size=0.33, shuffle=False)"
   ]
  },
  {
   "cell_type": "markdown",
   "metadata": {},
   "source": [
    "### Hyperparameter tuning using gridsearch"
   ]
  },
  {
   "cell_type": "code",
   "execution_count": 13,
   "metadata": {},
   "outputs": [],
   "source": [
    "# this function is defined to reduce the coding effort to find k value for each vectorization technique\n",
    "from sklearn.model_selection import GridSearchCV\n",
    "from sklearn.linear_model import LogisticRegression\n",
    "from sklearn.model_selection import TimeSeriesSplit\n",
    "import math\n",
    "def optimal_val(x,y):\n",
    "    \n",
    "    a = [.00001,.0001,.001,.01,1,10,100,1000,10000]\n",
    "    param = [math.log(i) for i in a]\n",
    "    tscv = TimeSeriesSplit(n_splits=10)\n",
    "    parameters = {'C': a}\n",
    "    clf = GridSearchCV(LogisticRegression(), parameters, cv=tscv, scoring='roc_auc')\n",
    "    clf.fit(x, y)\n",
    "    \n",
    "    train_auc= clf.cv_results_['mean_train_score']\n",
    "    train_auc_std= clf.cv_results_['std_train_score']\n",
    "    cv_auc = clf.cv_results_['mean_test_score'] \n",
    "    cv_auc_std= clf.cv_results_['std_test_score']\n",
    "    \n",
    "    print('Best tunned parameter is',clf.best_params_)\n",
    "    print('Train data accuracy is %f%% '%(clf.best_score_*100))\n",
    "    \n",
    "    plt.plot(param, train_auc, label='Train AUC')\n",
    "    # this code is copied from here: https://stackoverflow.com/a/48803361/4084039\n",
    "    plt.gca().fill_between(param,train_auc - train_auc_std,train_auc + train_auc_std,alpha=0.2,color='darkblue')\n",
    "    \n",
    "    plt.plot(param, cv_auc, label='CV AUC')\n",
    "    # this code is copied from here: https://stackoverflow.com/a/48803361/4084039\n",
    "    plt.gca().fill_between(param,cv_auc - cv_auc_std,cv_auc + cv_auc_std,alpha=0.2,color='darkorange')\n",
    "    plt.legend()\n",
    "    plt.xlabel(\"C: hyperparameter\")\n",
    "    plt.ylabel(\"AUC\")\n",
    "    plt.title(\"ERROR PLOTS\")\n",
    "    plt.show()\n",
    "    return clf.best_params_"
   ]
  },
  {
   "cell_type": "markdown",
   "metadata": {},
   "source": [
    "## BOW"
   ]
  },
  {
   "cell_type": "code",
   "execution_count": 14,
   "metadata": {},
   "outputs": [
    {
     "name": "stdout",
     "output_type": "stream",
     "text": [
      "(67000, 30856)\n",
      "(33000, 30856)\n"
     ]
    }
   ],
   "source": [
    "from sklearn.feature_extraction.text import CountVectorizer\n",
    "from sklearn import preprocessing\n",
    "\n",
    "count_vect = CountVectorizer()\n",
    "x_train_bow = count_vect.fit_transform(x_train)\n",
    "x_train_bow = preprocessing.normalize(x_train_bow)\n",
    "x_test_bow = count_vect.transform(x_test)\n",
    "print(x_train_bow.shape)\n",
    "print(x_test_bow.shape)"
   ]
  },
  {
   "cell_type": "code",
   "execution_count": 15,
   "metadata": {},
   "outputs": [
    {
     "name": "stdout",
     "output_type": "stream",
     "text": [
      "Best tunned parameter is {'C': 10}\n",
      "Train data accuracy is 93.518160% \n"
     ]
    },
    {
     "data": {
      "image/png": "[encoded data removed]",
      "text/plain": [
       "<Figure size 432x288 with 1 Axes>"
      ]
     },
     "metadata": {},
     "output_type": "display_data"
    }
   ],
   "source": [
    "c = optimal_val(x=x_train_bow,y=y_train)"
   ]
  },
  {
   "cell_type": "markdown",
   "metadata": {},
   "source": [
    "### Testing C on test data using L1 regularizer"
   ]
  },
  {
   "cell_type": "code",
   "execution_count": 16,
   "metadata": {},
   "outputs": [
    {
     "data": {
      "image/png": "[encoded data removed]",
      "text/plain": [
       "<Figure size 432x288 with 1 Axes>"
      ]
     },
     "metadata": {},
     "output_type": "display_data"
    }
   ],
   "source": [
    "from sklearn.metrics import roc_curve, auc\n",
    "lr_model_l1 = LogisticRegression(C=c['C'] , penalty = 'l1')\n",
    "lr_model_l1.fit(x_train_bow,y_train)\n",
    "train_fpr, train_tpr, thresholds = roc_curve(y_train, lr_model_l1.predict_proba(x_train_bow)[:,1])\n",
    "test_fpr, test_tpr, thresholds = roc_curve(y_test, lr_model_l1.predict_proba(x_test_bow)[:,1])\n",
    "\n",
    "plt.plot(train_fpr, train_tpr, label=\"train AUC =\"+str(auc(train_fpr, train_tpr)))\n",
    "plt.plot(test_fpr, test_tpr, label=\"test AUC =\"+str(auc(test_fpr, test_tpr)))\n",
    "plt.legend()\n",
    "plt.xlabel(\"C: hyperparameter\")\n",
    "plt.ylabel(\"AUC\")\n",
    "plt.title(\"ERROR PLOTS\")\n",
    "plt.show()"
   ]
  },
  {
   "cell_type": "markdown",
   "metadata": {},
   "source": [
    "### Testing C on test data using L2 regularizer"
   ]
  },
  {
   "cell_type": "code",
   "execution_count": 17,
   "metadata": {},
   "outputs": [
    {
     "data": {
      "image/png": "[encoded data removed]",
      "text/plain": [
       "<Figure size 432x288 with 1 Axes>"
      ]
     },
     "metadata": {},
     "output_type": "display_data"
    }
   ],
   "source": [
    "from sklearn.metrics import roc_curve, auc\n",
    "lr_model_l2 = LogisticRegression(C=c['C'] , penalty = 'l2')\n",
    "lr_model_l2.fit(x_train_bow,y_train)\n",
    "train_fpr, train_tpr, thresholds = roc_curve(y_train, lr_model_l2.predict_proba(x_train_bow)[:,1])\n",
    "test_fpr, test_tpr, thresholds = roc_curve(y_test, lr_model_l2.predict_proba(x_test_bow)[:,1])\n",
    "\n",
    "plt.plot(train_fpr, train_tpr, label=\"train AUC =\"+str(auc(train_fpr, train_tpr)))\n",
    "plt.plot(test_fpr, test_tpr, label=\"test AUC =\"+str(auc(test_fpr, test_tpr)))\n",
    "plt.legend()\n",
    "plt.xlabel(\"C: hyperparameter\")\n",
    "plt.ylabel(\"AUC\")\n",
    "plt.title(\"ERROR PLOTS\")\n",
    "plt.show()"
   ]
  },
  {
   "cell_type": "markdown",
   "metadata": {},
   "source": [
    "### Confusion Matrix For Train Data"
   ]
  },
  {
   "cell_type": "code",
   "execution_count": 18,
   "metadata": {},
   "outputs": [
    {
     "data": {
      "image/png": "[encoded data removed]",
      "text/plain": [
       "<Figure size 432x288 with 2 Axes>"
      ]
     },
     "metadata": {},
     "output_type": "display_data"
    }
   ],
   "source": [
    "# predict the response\n",
    "y_pred_bow = lr_model_l2.predict(x_train_bow)\n",
    "\n",
    "#confusion matrix\n",
    "import seaborn as sns\n",
    "from sklearn.metrics import confusion_matrix,classification_report\n",
    "cm = confusion_matrix(y_train,y_pred_bow)\n",
    "class_label = [\"negative\", \"positive\"]\n",
    "df_cm = pd.DataFrame(cm, index = class_label, columns = class_label)\n",
    "sns.heatmap(df_cm, annot = True, fmt = \"d\")\n",
    "plt.title(\"Confusiion Matrix\")\n",
    "plt.xlabel(\"Predicted Label\")\n",
    "plt.ylabel(\"True Label\")\n",
    "plt.show()"
   ]
  },
  {
   "cell_type": "code",
   "execution_count": 19,
   "metadata": {},
   "outputs": [
    {
     "name": "stdout",
     "output_type": "stream",
     "text": [
      "             precision    recall  f1-score   support\n",
      "\n",
      "          0       0.88      0.72      0.80      9810\n",
      "          1       0.95      0.98      0.97     57190\n",
      "\n",
      "avg / total       0.94      0.95      0.94     67000\n",
      "\n"
     ]
    }
   ],
   "source": [
    "print(classification_report(y_train ,y_pred_bow))"
   ]
  },
  {
   "cell_type": "markdown",
   "metadata": {},
   "source": [
    "### Confusion Matrix on Test Data"
   ]
  },
  {
   "cell_type": "code",
   "execution_count": 20,
   "metadata": {},
   "outputs": [
    {
     "data": {
      "image/png": "[encoded data removed]",
      "text/plain": [
       "<Figure size 432x288 with 2 Axes>"
      ]
     },
     "metadata": {},
     "output_type": "display_data"
    }
   ],
   "source": [
    "# predict the response\n",
    "y_pred_bow = lr_model_l2.predict(x_test_bow)\n",
    "\n",
    "#confusion matrix\n",
    "import seaborn as sns\n",
    "from sklearn.metrics import confusion_matrix,classification_report\n",
    "cm = confusion_matrix(y_test,y_pred_bow)\n",
    "class_label = [\"negative\", \"positive\"]\n",
    "df_cm = pd.DataFrame(cm, index = class_label, columns = class_label)\n",
    "sns.heatmap(df_cm, annot = True, fmt = \"d\")\n",
    "plt.title(\"Confusiion Matrix\")\n",
    "plt.xlabel(\"Predicted Label\")\n",
    "plt.ylabel(\"True Label\")\n",
    "plt.show()"
   ]
  },
  {
   "cell_type": "code",
   "execution_count": 21,
   "metadata": {},
   "outputs": [
    {
     "name": "stdout",
     "output_type": "stream",
     "text": [
      "             precision    recall  f1-score   support\n",
      "\n",
      "          0       0.69      0.77      0.73      4993\n",
      "          1       0.96      0.94      0.95     28007\n",
      "\n",
      "avg / total       0.92      0.91      0.92     33000\n",
      "\n"
     ]
    }
   ],
   "source": [
    "print(classification_report(y_test ,y_pred_bow))"
   ]
  },
  {
   "cell_type": "markdown",
   "metadata": {},
   "source": [
    "## Top 10 Positive and Negative Features"
   ]
  },
  {
   "cell_type": "code",
   "execution_count": 22,
   "metadata": {},
   "outputs": [
    {
     "name": "stdout",
     "output_type": "stream",
     "text": [
      "\t\tNegative\t\t\t\t\tPositive\n",
      "\t-14.8627\tworst          \t\t\t\t9.2818\tuniqu          \n",
      "\t-12.0887\taw             \t\t\t\t9.2491\tdelici         \n",
      "\t-10.7524\twors           \t\t\t\t9.1605\tawesom         \n",
      "\t-9.9413\tterribl        \t\t\t\t9.1100\taddict         \n",
      "\t-9.7229\ttasteless      \t\t\t\t8.7769\tamaz           \n",
      "\t-9.1231\tthrew          \t\t\t\t8.7715\tperfect        \n",
      "\t-9.1224\tdisappoint     \t\t\t\t8.4329\tbest           \n",
      "\t-9.0481\tbland          \t\t\t\t8.3256\tyummi          \n",
      "\t-9.0208\tcancel         \t\t\t\t7.9298\texcel          \n",
      "\t-8.7953\tunfortun       \t\t\t\t7.5536\tskeptic        \n"
     ]
    }
   ],
   "source": [
    "# https://stackoverflow.com/questions/11116697/how-to-get-most-informative-features-for-scikit-learn-classifiers\n",
    "def important_features(vectorizer, clf, n=10):\n",
    "    feature_names = vectorizer.get_feature_names()\n",
    "    coefs_with_fns = sorted(zip(clf.coef_[0], feature_names))\n",
    "    top = zip(coefs_with_fns[:n], coefs_with_fns[:-(n + 1):-1])\n",
    "    print(\"\\t\\tNegative\\t\\t\\t\\t\\tPositive\")\n",
    "    for (coef_1, fn_1), (coef_2, fn_2) in top:\n",
    "        print(\"\\t%.4f\\t%-15s\\t\\t\\t\\t%.4f\\t%-15s\" % (coef_1, fn_1, coef_2, fn_2))\n",
    "important_features(count_vect,lr_model_l2)"
   ]
  },
  {
   "cell_type": "markdown",
   "metadata": {},
   "source": [
    "### Pertubation Test on BOW"
   ]
  },
  {
   "cell_type": "code",
   "execution_count": 23,
   "metadata": {},
   "outputs": [
    {
     "name": "stdout",
     "output_type": "stream",
     "text": [
      "[ 9.00917208e-03  5.24419863e-02 -3.38076863e-02  4.90840396e-03\n",
      "  5.99587012e-03  4.97934085e-02  4.48843358e-02  1.05115919e-01\n",
      "  1.98496113e-02  3.89428401e-02  7.92778638e-02  1.47977117e-03\n",
      "  7.68356435e-03  4.84900623e-03 -5.70479951e-01  1.05243091e-03\n",
      "  3.49036735e-02 -1.98988474e-01  1.90432030e-01  1.97139300e-01\n",
      "  1.39922364e-02  9.72586712e-02  1.24418076e-02 -4.87162300e-02\n",
      "  7.97003340e-01  3.84022890e-03 -4.13160334e-01  1.94626725e-01\n",
      " -1.87312594e+00  3.94446492e-01]\n"
     ]
    }
   ],
   "source": [
    "#Weights before adding random noise\n",
    "w = lr_model_l2.coef_[0]\n",
    "# adding small value to eliminate zero by division error\n",
    "w = w + .000001\n",
    "print(w[:30])"
   ]
  },
  {
   "cell_type": "code",
   "execution_count": 24,
   "metadata": {},
   "outputs": [],
   "source": [
    "#adding random noise to train data\n",
    "from scipy.sparse import find\n",
    "import copy\n",
    "x_train_per = copy.deepcopy(x_train_bow)\n",
    "noise = np.random.uniform(low=-0.0001, high=0.0001,size=(find(x_train_per)[0].size))\n",
    "\n",
    "i,j,v = find(x_train_per)\n",
    "x_train_per[i,j] = noise + x_train_per[i,j]"
   ]
  },
  {
   "cell_type": "code",
   "execution_count": 25,
   "metadata": {},
   "outputs": [
    {
     "name": "stdout",
     "output_type": "stream",
     "text": [
      "[ 1.27991567e-04  1.68177302e-04 -2.37423661e-04  1.93319518e-04\n",
      "  2.26679021e-04  9.71175254e-05  5.02831160e-05  3.70064481e-04\n",
      "  1.57667382e-04  6.50642198e-05  1.53980558e-04  2.52770110e-04\n",
      "  1.53770353e-04  1.01021227e-04 -8.02816111e-04  1.51012134e-04\n",
      "  3.11616752e-04 -6.26833083e-04  9.45373268e-05  3.05077294e-04\n",
      "  2.55172218e-04  1.92659398e-04  9.65787977e-05 -4.58232793e-04\n",
      "  2.99719318e-04  1.93829757e-04 -4.08997559e-05  9.39180300e-05\n",
      " -1.97639216e-03  3.84005814e-04]\n"
     ]
    }
   ],
   "source": [
    "#fitting model on new data set\n",
    "lr_model_per = LogisticRegression(C=.01, penalty = 'l2')\n",
    "lr_model_per.fit(x_train_per,y_train)\n",
    "w1 = lr_model_per.coef_[0]\n",
    "w1 = w1 + .000001\n",
    "print(w1[:30])"
   ]
  },
  {
   "cell_type": "code",
   "execution_count": 29,
   "metadata": {},
   "outputs": [
    {
     "name": "stdout",
     "output_type": "stream",
     "text": [
      "[98.6 99.7 99.3 ... 99.5 94.5 99.8]\n"
     ]
    }
   ],
   "source": [
    "percentage_change_vector  = np.round((abs((w-w1)/w)*100),1)\n",
    "print(percentage_change_vector)"
   ]
  },
  {
   "cell_type": "code",
   "execution_count": 30,
   "metadata": {},
   "outputs": [
    {
     "data": {
      "text/plain": [
       "array([ 104.8305    ,  105.8       ,  107.1015    ,  109.1       ,\n",
       "        110.5725    ,  114.8       ,  123.3175    ,  140.258     ,\n",
       "        264.0975    , 3350.29999997])"
      ]
     },
     "execution_count": 30,
     "metadata": {},
     "output_type": "execute_result"
    }
   ],
   "source": [
    "i=np.arange(99.1,100,.1)\n",
    "threshold_values=np.percentile(percentage_change_vector,i)\n",
    "threshold_values"
   ]
  },
  {
   "cell_type": "code",
   "execution_count": 31,
   "metadata": {},
   "outputs": [
    {
     "data": {
      "text/plain": [
       "[<matplotlib.lines.Line2D at 0x15049126be0>]"
      ]
     },
     "execution_count": 31,
     "metadata": {},
     "output_type": "execute_result"
    },
    {
     "data": {
      "image/png": "[encoded data removed]",
      "text/plain": [
       "<Figure size 432x288 with 1 Axes>"
      ]
     },
     "metadata": {},
     "output_type": "display_data"
    }
   ],
   "source": [
    "plt.plot(i,threshold_values)"
   ]
  },
  {
   "cell_type": "markdown",
   "metadata": {},
   "source": [
    "### We can see that at 99.9 percentile we have a sudden change from 263 to 3350\n",
    "### so our threshold value should be 263.9265"
   ]
  },
  {
   "cell_type": "code",
   "execution_count": 32,
   "metadata": {},
   "outputs": [
    {
     "data": {
      "text/plain": [
       "30825"
      ]
     },
     "execution_count": 32,
     "metadata": {},
     "output_type": "execute_result"
    }
   ],
   "source": [
    "A = percentage_change_vector.tolist()\n",
    "# 99.9 percentile index in A \n",
    "value = round(.999 * len(A))\n",
    "value"
   ]
  },
  {
   "cell_type": "code",
   "execution_count": 33,
   "metadata": {},
   "outputs": [
    {
     "data": {
      "text/html": [
       "<div>\n",
       "<style scoped>\n",
       "    .dataframe tbody tr th:only-of-type {\n",
       "        vertical-align: middle;\n",
       "    }\n",
       "\n",
       "    .dataframe tbody tr th {\n",
       "        vertical-align: top;\n",
       "    }\n",
       "\n",
       "    .dataframe thead th {\n",
       "        text-align: right;\n",
       "    }\n",
       "</style>\n",
       "<table border=\"1\" class=\"dataframe\">\n",
       "  <thead>\n",
       "    <tr style=\"text-align: right;\">\n",
       "      <th></th>\n",
       "      <th>%change</th>\n",
       "      <th>Weight_vetor</th>\n",
       "      <th>feature</th>\n",
       "    </tr>\n",
       "  </thead>\n",
       "  <tbody>\n",
       "    <tr>\n",
       "      <th>0</th>\n",
       "      <td>0.5</td>\n",
       "      <td>0.000132</td>\n",
       "      <td>wuit</td>\n",
       "    </tr>\n",
       "    <tr>\n",
       "      <th>1</th>\n",
       "      <td>0.6</td>\n",
       "      <td>0.000132</td>\n",
       "      <td>jetta</td>\n",
       "    </tr>\n",
       "    <tr>\n",
       "      <th>2</th>\n",
       "      <td>0.6</td>\n",
       "      <td>0.000132</td>\n",
       "      <td>candia</td>\n",
       "    </tr>\n",
       "    <tr>\n",
       "      <th>3</th>\n",
       "      <td>1.3</td>\n",
       "      <td>0.000137</td>\n",
       "      <td>mues</td>\n",
       "    </tr>\n",
       "    <tr>\n",
       "      <th>4</th>\n",
       "      <td>1.7</td>\n",
       "      <td>0.000261</td>\n",
       "      <td>brocc</td>\n",
       "    </tr>\n",
       "    <tr>\n",
       "      <th>5</th>\n",
       "      <td>2.0</td>\n",
       "      <td>0.000066</td>\n",
       "      <td>dissap</td>\n",
       "    </tr>\n",
       "    <tr>\n",
       "      <th>6</th>\n",
       "      <td>2.0</td>\n",
       "      <td>0.000127</td>\n",
       "      <td>baggguett</td>\n",
       "    </tr>\n",
       "    <tr>\n",
       "      <th>7</th>\n",
       "      <td>2.1</td>\n",
       "      <td>0.000066</td>\n",
       "      <td>recenti</td>\n",
       "    </tr>\n",
       "    <tr>\n",
       "      <th>8</th>\n",
       "      <td>2.1</td>\n",
       "      <td>-0.002023</td>\n",
       "      <td>unediblechip</td>\n",
       "    </tr>\n",
       "    <tr>\n",
       "      <th>9</th>\n",
       "      <td>2.2</td>\n",
       "      <td>0.000066</td>\n",
       "      <td>ashy</td>\n",
       "    </tr>\n",
       "  </tbody>\n",
       "</table>\n",
       "</div>"
      ],
      "text/plain": [
       "   %change  Weight_vetor       feature\n",
       "0      0.5      0.000132          wuit\n",
       "1      0.6      0.000132         jetta\n",
       "2      0.6      0.000132        candia\n",
       "3      1.3      0.000137          mues\n",
       "4      1.7      0.000261         brocc\n",
       "5      2.0      0.000066        dissap\n",
       "6      2.0      0.000127     baggguett\n",
       "7      2.1      0.000066       recenti\n",
       "8      2.1     -0.002023  unediblechip\n",
       "9      2.2      0.000066          ashy"
      ]
     },
     "execution_count": 33,
     "metadata": {},
     "output_type": "execute_result"
    }
   ],
   "source": [
    "df = pd.DataFrame(A,columns=['%change'])\n",
    "df['Weight_vetor']= w\n",
    "feature_names = count_vect.get_feature_names()\n",
    "df['feature'] = feature_names\n",
    "df = df.sort_values(by = ['%change']).reset_index(drop=True)\n",
    "df[:10]"
   ]
  },
  {
   "cell_type": "markdown",
   "metadata": {},
   "source": [
    "### features those value are more than threshold"
   ]
  },
  {
   "cell_type": "code",
   "execution_count": 34,
   "metadata": {},
   "outputs": [
    {
     "data": {
      "text/plain": [
       "30825           quacamol\n",
       "30826             squidi\n",
       "30827             suddon\n",
       "30828               dent\n",
       "30829            shaddix\n",
       "30830             cinema\n",
       "30831               whys\n",
       "30832                cgi\n",
       "30833            caustic\n",
       "30834               clue\n",
       "30835         vegetarian\n",
       "30836               prom\n",
       "30837             faulti\n",
       "30838           themthes\n",
       "30839             retent\n",
       "30840               denk\n",
       "30841    onlinecandyshop\n",
       "30842             yellow\n",
       "30843              maker\n",
       "30844              parti\n",
       "30845              noodl\n",
       "30846                cup\n",
       "30847              cooki\n",
       "30848               taxi\n",
       "30849               aram\n",
       "30850             hazard\n",
       "30851           sweedish\n",
       "30852            subsist\n",
       "30853            inspect\n",
       "30854           marzapan\n",
       "30855             imagin\n",
       "Name: feature, dtype: object"
      ]
     },
     "execution_count": 34,
     "metadata": {},
     "output_type": "execute_result"
    }
   ],
   "source": [
    "#features more than threshold\n",
    "df['feature'][30825:]"
   ]
  },
  {
   "cell_type": "markdown",
   "metadata": {},
   "source": [
    "### Check sparsity on weight wector obtained by L1 regularizer"
   ]
  },
  {
   "cell_type": "code",
   "execution_count": 35,
   "metadata": {},
   "outputs": [
    {
     "name": "stdout",
     "output_type": "stream",
     "text": [
      "13\n"
     ]
    }
   ],
   "source": [
    "lr_model = LogisticRegression(C=.01, penalty = 'l1')\n",
    "lr_model.fit(x_train_bow,y_train)\n",
    "print(np.count_nonzero(lr_model.coef_))"
   ]
  },
  {
   "cell_type": "code",
   "execution_count": 36,
   "metadata": {},
   "outputs": [
    {
     "name": "stdout",
     "output_type": "stream",
     "text": [
      "1055\n"
     ]
    }
   ],
   "source": [
    "lr_model = LogisticRegression(C=1, penalty = 'l1')\n",
    "lr_model.fit(x_train_bow,y_train)\n",
    "print(np.count_nonzero(lr_model.coef_))"
   ]
  },
  {
   "cell_type": "code",
   "execution_count": 37,
   "metadata": {},
   "outputs": [
    {
     "name": "stdout",
     "output_type": "stream",
     "text": [
      "5268\n"
     ]
    }
   ],
   "source": [
    "lr_model = LogisticRegression(C=10, penalty = 'l1')\n",
    "lr_model.fit(x_train_bow,y_train)\n",
    "print(np.count_nonzero(lr_model.coef_))"
   ]
  },
  {
   "cell_type": "code",
   "execution_count": 38,
   "metadata": {},
   "outputs": [
    {
     "name": "stdout",
     "output_type": "stream",
     "text": [
      "10483\n"
     ]
    }
   ],
   "source": [
    "lr_model = LogisticRegression(C=100, penalty = 'l1')\n",
    "lr_model.fit(x_train_bow,y_train)\n",
    "print(np.count_nonzero(lr_model.coef_))"
   ]
  },
  {
   "cell_type": "markdown",
   "metadata": {},
   "source": [
    "## TF-IDF"
   ]
  },
  {
   "cell_type": "code",
   "execution_count": 39,
   "metadata": {},
   "outputs": [
    {
     "name": "stdout",
     "output_type": "stream",
     "text": [
      "(67000, 38973)\n",
      "(33000, 38973)\n"
     ]
    }
   ],
   "source": [
    "from sklearn.feature_extraction.text import TfidfTransformer\n",
    "from sklearn.feature_extraction.text import TfidfVectorizer\n",
    "tf_idf_vect = TfidfVectorizer(ngram_range=(1,2), min_df=10)\n",
    "x_train_tfidf = tf_idf_vect.fit_transform(x_train)\n",
    "x_train_tfidf = preprocessing.normalize(x_train_tfidf)\n",
    "x_test_tfidf = tf_idf_vect.transform(x_test)\n",
    "print(x_train_tfidf.shape)\n",
    "print(x_test_tfidf.shape)"
   ]
  },
  {
   "cell_type": "code",
   "execution_count": 40,
   "metadata": {},
   "outputs": [
    {
     "name": "stdout",
     "output_type": "stream",
     "text": [
      "Best tunned parameter is {'C': 10}\n",
      "Train data accuracy is 94.446194% \n"
     ]
    },
    {
     "data": {
      "image/png": "[encoded data removed]",
      "text/plain": [
       "<Figure size 432x288 with 1 Axes>"
      ]
     },
     "metadata": {},
     "output_type": "display_data"
    }
   ],
   "source": [
    "c=optimal_val(x=x_train_tfidf,y=y_train)"
   ]
  },
  {
   "cell_type": "markdown",
   "metadata": {},
   "source": [
    "###  Testing C on test data usin l1 regularizer"
   ]
  },
  {
   "cell_type": "code",
   "execution_count": 41,
   "metadata": {},
   "outputs": [
    {
     "data": {
      "image/png": "[encoded data removed]",
      "text/plain": [
       "<Figure size 432x288 with 1 Axes>"
      ]
     },
     "metadata": {},
     "output_type": "display_data"
    }
   ],
   "source": [
    "from sklearn.metrics import roc_curve, auc\n",
    "lr_model_l1 = LogisticRegression(C=c['C'] , penalty = 'l1')\n",
    "lr_model_l1.fit(x_train_tfidf,y_train)\n",
    "train_fpr, train_tpr, thresholds = roc_curve(y_train, lr_model_l1.predict_proba(x_train_tfidf)[:,1])\n",
    "test_fpr, test_tpr, thresholds = roc_curve(y_test, lr_model_l1.predict_proba(x_test_tfidf)[:,1])\n",
    "\n",
    "plt.plot(train_fpr, train_tpr, label=\"train AUC =\"+str(auc(train_fpr, train_tpr)))\n",
    "plt.plot(test_fpr, test_tpr, label=\"test AUC =\"+str(auc(test_fpr, test_tpr)))\n",
    "plt.legend()\n",
    "plt.xlabel(\"C: hyperparameter\")\n",
    "plt.ylabel(\"AUC\")\n",
    "plt.title(\"ERROR PLOTS\")\n",
    "plt.show()"
   ]
  },
  {
   "cell_type": "markdown",
   "metadata": {},
   "source": [
    "### Testing C in test data using L2 regularizer"
   ]
  },
  {
   "cell_type": "code",
   "execution_count": 42,
   "metadata": {},
   "outputs": [
    {
     "data": {
      "image/png": "[encoded data removed]",
      "text/plain": [
       "<Figure size 432x288 with 1 Axes>"
      ]
     },
     "metadata": {},
     "output_type": "display_data"
    }
   ],
   "source": [
    "from sklearn.metrics import roc_curve, auc\n",
    "lr_model_l2 = LogisticRegression(C=c['C'] , penalty = 'l2')\n",
    "lr_model_l2.fit(x_train_tfidf,y_train)\n",
    "train_fpr, train_tpr, thresholds = roc_curve(y_train, lr_model_l2.predict_proba(x_train_tfidf)[:,1])\n",
    "test_fpr, test_tpr, thresholds = roc_curve(y_test, lr_model_l2.predict_proba(x_test_tfidf)[:,1])\n",
    "\n",
    "plt.plot(train_fpr, train_tpr, label=\"train AUC =\"+str(auc(train_fpr, train_tpr)))\n",
    "plt.plot(test_fpr, test_tpr, label=\"test AUC =\"+str(auc(test_fpr, test_tpr)))\n",
    "plt.legend()\n",
    "plt.xlabel(\"C: hyperparameter\")\n",
    "plt.ylabel(\"AUC\")\n",
    "plt.title(\"ERROR PLOTS\")\n",
    "plt.show()"
   ]
  },
  {
   "cell_type": "markdown",
   "metadata": {},
   "source": [
    "### Confusion Matrix on Train Data"
   ]
  },
  {
   "cell_type": "code",
   "execution_count": 43,
   "metadata": {},
   "outputs": [
    {
     "data": {
      "image/png": "[encoded data removed]",
      "text/plain": [
       "<Figure size 432x288 with 2 Axes>"
      ]
     },
     "metadata": {},
     "output_type": "display_data"
    }
   ],
   "source": [
    "# predict the response\n",
    "y_pred_tfidf = lr_model_l2.predict(x_train_tfidf)\n",
    "\n",
    "#confusion matrix\n",
    "import seaborn as sns\n",
    "from sklearn.metrics import confusion_matrix,classification_report\n",
    "cm = confusion_matrix(y_train,y_pred_tfidf)\n",
    "class_label = [\"negative\", \"positive\"]\n",
    "df_cm = pd.DataFrame(cm, index = class_label, columns = class_label)\n",
    "sns.heatmap(df_cm, annot = True, fmt = \"d\")\n",
    "plt.title(\"Confusiion Matrix\")\n",
    "plt.xlabel(\"Predicted Label\")\n",
    "plt.ylabel(\"True Label\")\n",
    "plt.show()"
   ]
  },
  {
   "cell_type": "code",
   "execution_count": 44,
   "metadata": {},
   "outputs": [
    {
     "name": "stdout",
     "output_type": "stream",
     "text": [
      "             precision    recall  f1-score   support\n",
      "\n",
      "          0       0.98      0.91      0.94      9810\n",
      "          1       0.98      1.00      0.99     57190\n",
      "\n",
      "avg / total       0.98      0.98      0.98     67000\n",
      "\n"
     ]
    }
   ],
   "source": [
    "print(classification_report(y_train ,y_pred_tfidf))"
   ]
  },
  {
   "cell_type": "markdown",
   "metadata": {},
   "source": [
    "### Confusion Matrix on Test Data"
   ]
  },
  {
   "cell_type": "code",
   "execution_count": 45,
   "metadata": {},
   "outputs": [
    {
     "data": {
      "image/png": "[encoded data removed]",
      "text/plain": [
       "<Figure size 432x288 with 2 Axes>"
      ]
     },
     "metadata": {},
     "output_type": "display_data"
    }
   ],
   "source": [
    "# predict the response\n",
    "y_pred_tfidf = lr_model_l2.predict(x_test_tfidf)\n",
    "\n",
    "#confusion matrix\n",
    "import seaborn as sns\n",
    "from sklearn.metrics import confusion_matrix,classification_report\n",
    "cm = confusion_matrix(y_test,y_pred_tfidf)\n",
    "class_label = [\"negative\", \"positive\"]\n",
    "df_cm = pd.DataFrame(cm, index = class_label, columns = class_label)\n",
    "sns.heatmap(df_cm, annot = True, fmt = \"d\")\n",
    "plt.title(\"Confusiion Matrix\")\n",
    "plt.xlabel(\"Predicted Label\")\n",
    "plt.ylabel(\"True Label\")\n",
    "plt.show()"
   ]
  },
  {
   "cell_type": "code",
   "execution_count": 46,
   "metadata": {},
   "outputs": [
    {
     "name": "stdout",
     "output_type": "stream",
     "text": [
      "             precision    recall  f1-score   support\n",
      "\n",
      "          0       0.84      0.66      0.74      4993\n",
      "          1       0.94      0.98      0.96     28007\n",
      "\n",
      "avg / total       0.93      0.93      0.93     33000\n",
      "\n"
     ]
    }
   ],
   "source": [
    "print(classification_report(y_test ,y_pred_tfidf))"
   ]
  },
  {
   "cell_type": "markdown",
   "metadata": {},
   "source": [
    "###  Top 10 Positive and Negative values using TF-IDF Vectorizer"
   ]
  },
  {
   "cell_type": "code",
   "execution_count": 56,
   "metadata": {},
   "outputs": [
    {
     "name": "stdout",
     "output_type": "stream",
     "text": [
      "\t\tNegative\t\t\t\t\tPositive\n",
      "\t-14.5582\tdisappoint     \t\t\t\t16.4828\tgreat          \n",
      "\t-13.8085\tworst          \t\t\t\t14.7967\tdelici         \n",
      "\t-11.8581\taw             \t\t\t\t14.3959\tbest           \n",
      "\t-10.3413\ttwo star       \t\t\t\t13.9383\tlove           \n",
      "\t-10.2342\tunfortun       \t\t\t\t13.1340\tperfect        \n",
      "\t-9.9502\tterribl        \t\t\t\t11.0469\thigh recommend \n",
      "\t-9.7915\twors           \t\t\t\t10.4355\texcel          \n",
      "\t-9.5591\thorribl        \t\t\t\t9.9802\twont disappoint\n",
      "\t-9.4314\tbland          \t\t\t\t9.8948\taddict         \n",
      "\t-8.4844\tthrew          \t\t\t\t9.5207\tamaz           \n"
     ]
    }
   ],
   "source": [
    "def important_features(vectorizer, clf, n=10):\n",
    "    feature_names = vectorizer.get_feature_names()\n",
    "    coefs_with_fns = sorted(zip(clf.coef_[0], feature_names))\n",
    "    top = zip(coefs_with_fns[:n], coefs_with_fns[:-(n + 1):-1])\n",
    "    print(\"\\t\\tNegative\\t\\t\\t\\t\\tPositive\")\n",
    "    for (coef_1, fn_1), (coef_2, fn_2) in top:\n",
    "        print(\"\\t%.4f\\t%-15s\\t\\t\\t\\t%.4f\\t%-15s\" % (coef_1, fn_1, coef_2, fn_2))\n",
    "important_features(tf_idf_vect,lr_model_l2)"
   ]
  },
  {
   "cell_type": "markdown",
   "metadata": {},
   "source": [
    "### Pertubation test on Tf-idf"
   ]
  },
  {
   "cell_type": "code",
   "execution_count": 48,
   "metadata": {},
   "outputs": [
    {
     "name": "stdout",
     "output_type": "stream",
     "text": [
      "[-1.29494125  0.38302688  0.19186897  0.06812155  0.80823107  4.14693249\n",
      "  0.47789811  0.96253735 -0.73443632  1.05699347 -0.31672843 -1.64994181\n",
      " -0.0298934   0.68850003 -1.68679183  0.4825188  -0.73401159  2.3096527\n",
      "  0.20549256  0.58729711 -1.24576129  0.01829203  0.71185484  0.736024\n",
      " -0.70724097  1.15349085  1.06027365 -0.25962888 -0.34209338 -0.01412444]\n"
     ]
    }
   ],
   "source": [
    "#Weights before adding random noise\n",
    "w = lr_model_l2.coef_[0]\n",
    "# adding small value to eliminate zero by division error\n",
    "w = w + .000001\n",
    "print(w[:30])"
   ]
  },
  {
   "cell_type": "code",
   "execution_count": 49,
   "metadata": {},
   "outputs": [],
   "source": [
    "#adding random noise to train data\n",
    "from scipy.sparse import find\n",
    "import copy\n",
    "x_train_per = copy.deepcopy(x_train_tfidf)\n",
    "noise = np.random.uniform(low=-0.0001, high=0.0001,size=(find(x_train_per)[0].size))\n",
    "\n",
    "i,j,v = find(x_train_per)\n",
    "x_train_per[i,j] = noise + x_train_per[i,j]"
   ]
  },
  {
   "cell_type": "code",
   "execution_count": 50,
   "metadata": {},
   "outputs": [
    {
     "name": "stdout",
     "output_type": "stream",
     "text": [
      "[-0.0027227   0.00082261 -0.004676    0.00236255  0.09390163  0.03665564\n",
      " -0.00318689  0.00274747  0.00093545  0.004904    0.05345393 -0.00943893\n",
      "  0.01839547  0.00431798  0.00099972  0.00457349  0.00258492  0.023873\n",
      " -0.00058818  0.00218829  0.01355275  0.00096816  0.00305263  0.00402138\n",
      " -0.00340546 -0.00092389  0.0041084  -0.00080598 -0.009205    0.0029653 ]\n"
     ]
    }
   ],
   "source": [
    "#fitting model on new data set\n",
    "lr_model_per = LogisticRegression(C=.01, penalty = 'l2')\n",
    "lr_model_per.fit(x_train_per,y_train)\n",
    "w1 = lr_model_per.coef_[0]\n",
    "w1 = w1 + .000001\n",
    "print(w1[:30])"
   ]
  },
  {
   "cell_type": "code",
   "execution_count": 51,
   "metadata": {},
   "outputs": [
    {
     "name": "stdout",
     "output_type": "stream",
     "text": [
      "[ 99.8  99.8 102.4 ...  99.5 100.8  99.3]\n"
     ]
    }
   ],
   "source": [
    "percentage_change_vector  = np.round((abs((w-w1)/w)*100),1)\n",
    "print(percentage_change_vector)"
   ]
  },
  {
   "cell_type": "code",
   "execution_count": 52,
   "metadata": {},
   "outputs": [
    {
     "data": {
      "text/plain": [
       "array([  115.9       ,   118.3448    ,   121.4196    ,   125.7168    ,\n",
       "         130.728     ,   140.2112    ,   158.5168    ,   195.3232    ,\n",
       "         319.7868    , 12692.79999991])"
      ]
     },
     "execution_count": 52,
     "metadata": {},
     "output_type": "execute_result"
    }
   ],
   "source": [
    "i=np.arange(99.1,100,.1)\n",
    "threshold_values=np.percentile(percentage_change_vector,i)\n",
    "threshold_values"
   ]
  },
  {
   "cell_type": "code",
   "execution_count": 53,
   "metadata": {},
   "outputs": [
    {
     "data": {
      "text/plain": [
       "[<matplotlib.lines.Line2D at 0x15051472240>]"
      ]
     },
     "execution_count": 53,
     "metadata": {},
     "output_type": "execute_result"
    },
    {
     "data": {
      "image/png": "[encoded data removed]",
      "text/plain": [
       "<Figure size 432x288 with 1 Axes>"
      ]
     },
     "metadata": {},
     "output_type": "display_data"
    }
   ],
   "source": [
    "plt.plot(i,threshold_values)"
   ]
  },
  {
   "cell_type": "markdown",
   "metadata": {},
   "source": [
    "### We can see that at 99.9 percentile we have a sudden change from 319 to 12692\n",
    "### so our threshold value should be 319.7868"
   ]
  },
  {
   "cell_type": "code",
   "execution_count": 54,
   "metadata": {},
   "outputs": [
    {
     "data": {
      "text/plain": [
       "38934"
      ]
     },
     "execution_count": 54,
     "metadata": {},
     "output_type": "execute_result"
    }
   ],
   "source": [
    "A = percentage_change_vector.tolist()\n",
    "# 99.9 percentile index in A \n",
    "value = round(.999 * len(A))\n",
    "value"
   ]
  },
  {
   "cell_type": "code",
   "execution_count": 57,
   "metadata": {},
   "outputs": [
    {
     "data": {
      "text/html": [
       "<div>\n",
       "<style scoped>\n",
       "    .dataframe tbody tr th:only-of-type {\n",
       "        vertical-align: middle;\n",
       "    }\n",
       "\n",
       "    .dataframe tbody tr th {\n",
       "        vertical-align: top;\n",
       "    }\n",
       "\n",
       "    .dataframe thead th {\n",
       "        text-align: right;\n",
       "    }\n",
       "</style>\n",
       "<table border=\"1\" class=\"dataframe\">\n",
       "  <thead>\n",
       "    <tr style=\"text-align: right;\">\n",
       "      <th></th>\n",
       "      <th>%change</th>\n",
       "      <th>Weight_vetor</th>\n",
       "      <th>feature</th>\n",
       "    </tr>\n",
       "  </thead>\n",
       "  <tbody>\n",
       "    <tr>\n",
       "      <th>0</th>\n",
       "      <td>1.1</td>\n",
       "      <td>-0.035293</td>\n",
       "      <td>rid</td>\n",
       "    </tr>\n",
       "    <tr>\n",
       "      <th>1</th>\n",
       "      <td>1.9</td>\n",
       "      <td>0.007812</td>\n",
       "      <td>school snack</td>\n",
       "    </tr>\n",
       "    <tr>\n",
       "      <th>2</th>\n",
       "      <td>2.7</td>\n",
       "      <td>-0.003225</td>\n",
       "      <td>male cat</td>\n",
       "    </tr>\n",
       "    <tr>\n",
       "      <th>3</th>\n",
       "      <td>3.8</td>\n",
       "      <td>0.001866</td>\n",
       "      <td>pasta made</td>\n",
       "    </tr>\n",
       "    <tr>\n",
       "      <th>4</th>\n",
       "      <td>3.9</td>\n",
       "      <td>-0.173535</td>\n",
       "      <td>never</td>\n",
       "    </tr>\n",
       "    <tr>\n",
       "      <th>5</th>\n",
       "      <td>5.3</td>\n",
       "      <td>0.001259</td>\n",
       "      <td>one home</td>\n",
       "    </tr>\n",
       "    <tr>\n",
       "      <th>6</th>\n",
       "      <td>5.4</td>\n",
       "      <td>0.004357</td>\n",
       "      <td>got lot</td>\n",
       "    </tr>\n",
       "    <tr>\n",
       "      <th>7</th>\n",
       "      <td>7.2</td>\n",
       "      <td>0.002875</td>\n",
       "      <td>diseas love</td>\n",
       "    </tr>\n",
       "    <tr>\n",
       "      <th>8</th>\n",
       "      <td>8.9</td>\n",
       "      <td>0.001455</td>\n",
       "      <td>grew drink</td>\n",
       "    </tr>\n",
       "    <tr>\n",
       "      <th>9</th>\n",
       "      <td>9.7</td>\n",
       "      <td>-0.018976</td>\n",
       "      <td>metal</td>\n",
       "    </tr>\n",
       "  </tbody>\n",
       "</table>\n",
       "</div>"
      ],
      "text/plain": [
       "   %change  Weight_vetor       feature\n",
       "0      1.1     -0.035293           rid\n",
       "1      1.9      0.007812  school snack\n",
       "2      2.7     -0.003225      male cat\n",
       "3      3.8      0.001866    pasta made\n",
       "4      3.9     -0.173535         never\n",
       "5      5.3      0.001259      one home\n",
       "6      5.4      0.004357       got lot\n",
       "7      7.2      0.002875   diseas love\n",
       "8      8.9      0.001455    grew drink\n",
       "9      9.7     -0.018976         metal"
      ]
     },
     "execution_count": 57,
     "metadata": {},
     "output_type": "execute_result"
    }
   ],
   "source": [
    "df = pd.DataFrame(A,columns=['%change'])\n",
    "df['Weight_vetor']= w\n",
    "feature_names = tf_idf_vect.get_feature_names()\n",
    "df['feature'] = feature_names\n",
    "df = df.sort_values(by = ['%change']).reset_index(drop=True)\n",
    "df[:10]"
   ]
  },
  {
   "cell_type": "markdown",
   "metadata": {},
   "source": [
    "### features those value are more than threshold"
   ]
  },
  {
   "cell_type": "code",
   "execution_count": 58,
   "metadata": {},
   "outputs": [
    {
     "data": {
      "text/plain": [
       "38934          though give\n",
       "38935          good digest\n",
       "38936             see much\n",
       "38937          year famili\n",
       "38938                 yard\n",
       "38939            three bag\n",
       "38940             dog sick\n",
       "38941                 said\n",
       "38942                slide\n",
       "38943              granola\n",
       "38944            com alway\n",
       "38945           throw away\n",
       "38946                 bean\n",
       "38947           dont smell\n",
       "38948         without feel\n",
       "38949            mint tast\n",
       "38950               chines\n",
       "38951          flavor hope\n",
       "38952              ive one\n",
       "38953          avail store\n",
       "38954                 latt\n",
       "38955            like open\n",
       "38956         find cheaper\n",
       "38957                 care\n",
       "38958              italian\n",
       "38959               target\n",
       "38960          great drink\n",
       "38961               enough\n",
       "38962            like your\n",
       "38963                drawn\n",
       "38964          sweet great\n",
       "38965            brand one\n",
       "38966    disappoint amazon\n",
       "38967                 taco\n",
       "38968          purchas bag\n",
       "38969                 week\n",
       "38970           ive search\n",
       "38971                 siev\n",
       "38972          delici fill\n",
       "Name: feature, dtype: object"
      ]
     },
     "execution_count": 58,
     "metadata": {},
     "output_type": "execute_result"
    }
   ],
   "source": [
    "#features more than threshold\n",
    "df['feature'][38934:]"
   ]
  },
  {
   "cell_type": "markdown",
   "metadata": {},
   "source": [
    "## Avg W2V"
   ]
  },
  {
   "cell_type": "markdown",
   "metadata": {},
   "source": [
    "### Creating W2V for train data"
   ]
  },
  {
   "cell_type": "code",
   "execution_count": 64,
   "metadata": {},
   "outputs": [],
   "source": [
    "#function for creating avg word2vector\n",
    "from gensim.models import Word2Vec\n",
    "\n",
    "list_of_sentance=[]\n",
    "for sentance in x_train:\n",
    "    list_of_sentance.append(sentance.split())\n",
    "w2v_model=Word2Vec(list_of_sentance,min_count=5,size=50, workers=4)\n",
    "w2v_words = list(w2v_model.wv.vocab)\n",
    "sent_vectors = []; # the avg-w2v for each sentence/review is stored in this list\n",
    "for sent in list_of_sentance: # for each review/sentence\n",
    "    sent_vec = np.zeros(50) # as word vectors are of zero length 50, you might need to change this to 300 if you use google's w2v\n",
    "    cnt_words =0; # num of words with a valid vector in the sentence/review\n",
    "    for word in sent: # for each word in a review/sentence\n",
    "        if word in w2v_words:\n",
    "            vec = w2v_model.wv[word]\n",
    "            sent_vec += vec\n",
    "            cnt_words += 1\n",
    "    if cnt_words != 0:\n",
    "        sent_vec /= cnt_words\n",
    "    sent_vectors.append(sent_vec)\n",
    "\n",
    "x_train_avgw2v = np.array(sent_vectors)"
   ]
  },
  {
   "cell_type": "markdown",
   "metadata": {},
   "source": [
    "### Using Train Model to vectorize Test data"
   ]
  },
  {
   "cell_type": "code",
   "execution_count": 65,
   "metadata": {},
   "outputs": [],
   "source": [
    "list_of_sentance=[]\n",
    "for sentance in x_test:\n",
    "    list_of_sentance.append(sentance.split())\n",
    "sent_vectors = []; # the avg-w2v for each sentence/review is stored in this list\n",
    "for sent in list_of_sentance: # for each review/sentence\n",
    "    sent_vec = np.zeros(50) # as word vectors are of zero length 50, you might need to change this to 300 if you use google's w2v\n",
    "    cnt_words =0; # num of words with a valid vector in the sentence/review\n",
    "    for word in sent: # for each word in a review/sentence\n",
    "        if word in w2v_words:\n",
    "            vec = w2v_model.wv[word]\n",
    "            sent_vec += vec\n",
    "            cnt_words += 1\n",
    "    if cnt_words != 0:\n",
    "        sent_vec /= cnt_words\n",
    "    sent_vectors.append(sent_vec)\n",
    "\n",
    "x_test_avgw2v = np.array(sent_vectors)"
   ]
  },
  {
   "cell_type": "code",
   "execution_count": 70,
   "metadata": {},
   "outputs": [
    {
     "name": "stdout",
     "output_type": "stream",
     "text": [
      "(67000, 50)\n",
      "(33000, 50)\n",
      "Best tunned parameter is {'C': 1}\n",
      "Train data accuracy is 90.101221% \n"
     ]
    },
    {
     "data": {
      "image/png": "[encoded data removed]",
      "text/plain": [
       "<Figure size 432x288 with 1 Axes>"
      ]
     },
     "metadata": {},
     "output_type": "display_data"
    }
   ],
   "source": [
    "from sklearn.preprocessing import StandardScaler\n",
    "scale = StandardScaler()\n",
    "x_train_avgw2v_stand = scale.fit_transform(x_train_avgw2v)\n",
    "x_test_avgw2v_stand = scale.transform(x_test_avgw2v)\n",
    "print(x_train_avgw2v_stand.shape)\n",
    "print(x_test_avgw2v_stand.shape)\n",
    "\n",
    "#getting c value\n",
    "c = optimal_val(x=x_train_avgw2v_stand,y=y_train)"
   ]
  },
  {
   "cell_type": "markdown",
   "metadata": {},
   "source": [
    "### Testing C on test data using L1 regularizer"
   ]
  },
  {
   "cell_type": "code",
   "execution_count": 72,
   "metadata": {},
   "outputs": [
    {
     "data": {
      "image/png": "[encoded data removed]",
      "text/plain": [
       "<Figure size 432x288 with 1 Axes>"
      ]
     },
     "metadata": {},
     "output_type": "display_data"
    }
   ],
   "source": [
    "from sklearn.metrics import roc_curve, auc\n",
    "lr_model_l1 = LogisticRegression(C=c['C'] , penalty = 'l1')\n",
    "lr_model_l1.fit(x_train_avgw2v_stand,y_train)\n",
    "train_fpr, train_tpr, thresholds = roc_curve(y_train, lr_model_l1.predict_proba(x_train_avgw2v_stand)[:,1])\n",
    "test_fpr, test_tpr, thresholds = roc_curve(y_test, lr_model_l1.predict_proba(x_test_avgw2v_stand)[:,1])\n",
    "\n",
    "plt.plot(train_fpr, train_tpr, label=\"train AUC =\"+str(auc(train_fpr, train_tpr)))\n",
    "plt.plot(test_fpr, test_tpr, label=\"test AUC =\"+str(auc(test_fpr, test_tpr)))\n",
    "plt.legend()\n",
    "plt.xlabel(\"C: hyperparameter\")\n",
    "plt.ylabel(\"AUC\")\n",
    "plt.title(\"ERROR PLOTS\")\n",
    "plt.show()"
   ]
  },
  {
   "cell_type": "markdown",
   "metadata": {},
   "source": [
    "### Testing C on test data using L2 regularizer"
   ]
  },
  {
   "cell_type": "code",
   "execution_count": 74,
   "metadata": {},
   "outputs": [
    {
     "data": {
      "image/png": "[encoded data removed]",
      "text/plain": [
       "<Figure size 432x288 with 1 Axes>"
      ]
     },
     "metadata": {},
     "output_type": "display_data"
    }
   ],
   "source": [
    "from sklearn.metrics import roc_curve, auc\n",
    "lr_model_l2 = LogisticRegression(C=c['C'] , penalty = 'l2')\n",
    "lr_model_l2.fit(x_train_avgw2v_stand,y_train)\n",
    "train_fpr, train_tpr, thresholds = roc_curve(y_train, lr_model_l2.predict_proba(x_train_avgw2v_stand)[:,1])\n",
    "test_fpr, test_tpr, thresholds = roc_curve(y_test, lr_model_l2.predict_proba(x_test_avgw2v_stand)[:,1])\n",
    "\n",
    "plt.plot(train_fpr, train_tpr, label=\"train AUC =\"+str(auc(train_fpr, train_tpr)))\n",
    "plt.plot(test_fpr, test_tpr, label=\"test AUC =\"+str(auc(test_fpr, test_tpr)))\n",
    "plt.legend()\n",
    "plt.xlabel(\"C: hyperparameter\")\n",
    "plt.ylabel(\"AUC\")\n",
    "plt.title(\"ERROR PLOTS\")\n",
    "plt.show()"
   ]
  },
  {
   "cell_type": "markdown",
   "metadata": {},
   "source": [
    "### Confusion Matrix using train data"
   ]
  },
  {
   "cell_type": "code",
   "execution_count": 87,
   "metadata": {},
   "outputs": [
    {
     "data": {
      "image/png": "[encoded data removed]",
      "text/plain": [
       "<Figure size 432x288 with 2 Axes>"
      ]
     },
     "metadata": {},
     "output_type": "display_data"
    }
   ],
   "source": [
    "# predict the response\n",
    "y_pred_w2v = lr_model_l2.predict(x_train_avgw2v_stand)\n",
    "\n",
    "#confusion matrix\n",
    "import seaborn as sns\n",
    "from sklearn.metrics import confusion_matrix,classification_report\n",
    "cm = confusion_matrix(y_train,y_pred_w2v)\n",
    "class_label = [\"negative\", \"positive\"]\n",
    "df_cm = pd.DataFrame(cm, index = class_label, columns = class_label)\n",
    "sns.heatmap(df_cm, annot = True, fmt = \"d\")\n",
    "plt.title(\"Confusiion Matrix\")\n",
    "plt.xlabel(\"Predicted Label\")\n",
    "plt.ylabel(\"True Label\")\n",
    "plt.show()"
   ]
  },
  {
   "cell_type": "code",
   "execution_count": 88,
   "metadata": {},
   "outputs": [
    {
     "name": "stdout",
     "output_type": "stream",
     "text": [
      "             precision    recall  f1-score   support\n",
      "\n",
      "          0       0.71      0.45      0.55      9810\n",
      "          1       0.91      0.97      0.94     57190\n",
      "\n",
      "avg / total       0.88      0.89      0.88     67000\n",
      "\n"
     ]
    }
   ],
   "source": [
    "print(classification_report(y_train ,y_pred_w2v))"
   ]
  },
  {
   "cell_type": "markdown",
   "metadata": {},
   "source": [
    "### Confusion Matrix for test data"
   ]
  },
  {
   "cell_type": "code",
   "execution_count": 89,
   "metadata": {},
   "outputs": [
    {
     "data": {
      "image/png": "[encoded data removed]",
      "text/plain": [
       "<Figure size 432x288 with 2 Axes>"
      ]
     },
     "metadata": {},
     "output_type": "display_data"
    }
   ],
   "source": [
    "# predict the response\n",
    "y_pred_w2v = lr_model_l2.predict(x_test_avgw2v_stand)\n",
    "\n",
    "#confusion matrix\n",
    "import seaborn as sns\n",
    "from sklearn.metrics import confusion_matrix,classification_report\n",
    "cm = confusion_matrix(y_test,y_pred_w2v)\n",
    "class_label = [\"negative\", \"positive\"]\n",
    "df_cm = pd.DataFrame(cm, index = class_label, columns = class_label)\n",
    "sns.heatmap(df_cm, annot = True, fmt = \"d\")\n",
    "plt.title(\"Confusiion Matrix\")\n",
    "plt.xlabel(\"Predicted Label\")\n",
    "plt.ylabel(\"True Label\")\n",
    "plt.show()"
   ]
  },
  {
   "cell_type": "code",
   "execution_count": 90,
   "metadata": {},
   "outputs": [
    {
     "name": "stdout",
     "output_type": "stream",
     "text": [
      "             precision    recall  f1-score   support\n",
      "\n",
      "          0       0.73      0.45      0.56      4993\n",
      "          1       0.91      0.97      0.94     28007\n",
      "\n",
      "avg / total       0.88      0.89      0.88     33000\n",
      "\n"
     ]
    }
   ],
   "source": [
    "print(classification_report(y_test ,y_pred_w2v))"
   ]
  },
  {
   "cell_type": "markdown",
   "metadata": {},
   "source": [
    "## TF-IDF Weighted W2V"
   ]
  },
  {
   "cell_type": "markdown",
   "metadata": {},
   "source": [
    "### Creating a tf-idf weighted w2v for train data"
   ]
  },
  {
   "cell_type": "code",
   "execution_count": 91,
   "metadata": {},
   "outputs": [],
   "source": [
    "# final_tf_idf is the sparse matrix with row= sentence, col=word and cell_val = tfidf\n",
    "def weighted_word_vector(model,x):\n",
    "    # we are converting a dictionary with word as a key, and the idf as a value\n",
    "    dictionary = dict(zip(model.get_feature_names(), list(model.idf_)))\n",
    "    # TF-IDF weighted Word2Vec\n",
    "    tfidf_feat = model.get_feature_names() # tfidf words/col-names\n",
    "    list_of_sentance=[]\n",
    "    for sentance in x:\n",
    "        list_of_sentance.append(sentance.split())\n",
    "    w2v_model=Word2Vec(list_of_sentance,min_count=5,size=50, workers=4)\n",
    "    w2v_words = list(w2v_model.wv.vocab)\n",
    "    tfidf_sent_vectors = []; # the tfidf-w2v for each sentence/review is stored in this list\n",
    "    row=0;\n",
    "    for sent in list_of_sentance: # for ea1ch review/sentence \n",
    "        sent_vec = np.zeros(50) # as word vectors are of zero length\n",
    "        weight_sum =0; # num of words with a valid vector in the sentence/review\n",
    "        for word in sent: # for each word in a review/sentence\n",
    "            if word in w2v_words and word in tfidf_feat:\n",
    "                vec = w2v_model.wv[word]\n",
    "                tf_idf = dictionary[word]*(sent.count(word)/len(sent))\n",
    "                sent_vec += (vec * tf_idf)\n",
    "                weight_sum += tf_idf\n",
    "        if weight_sum != 0:\n",
    "            sent_vec /= weight_sum\n",
    "        tfidf_sent_vectors.append(sent_vec)\n",
    "        row += 1\n",
    "    return tfidf_sent_vectors\n",
    "\n",
    "model = TfidfVectorizer()\n",
    "model.fit_transform(x_train)\n",
    "x_train_weighted = weighted_word_vector(model,x_train)"
   ]
  },
  {
   "cell_type": "markdown",
   "metadata": {},
   "source": [
    "### Using the train model on test data"
   ]
  },
  {
   "cell_type": "code",
   "execution_count": 92,
   "metadata": {},
   "outputs": [],
   "source": [
    "# final_tf_idf is the sparse matrix with row= sentence, col=word and cell_val = tfidf\n",
    "def weighted_word_vector(model,x):\n",
    "    # we are converting a dictionary with word as a key, and the idf as a value\n",
    "    dictionary = dict(zip(model.get_feature_names(), list(model.idf_)))\n",
    "    # TF-IDF weighted Word2Vec\n",
    "    tfidf_feat = model.get_feature_names() # tfidf words/col-names\n",
    "    list_of_sentance=[]\n",
    "    for sentance in x:\n",
    "        list_of_sentance.append(sentance.split())\n",
    "    \n",
    "    tfidf_sent_vectors = []; # the tfidf-w2v for each sentence/review is stored in this list\n",
    "    row=0;\n",
    "    for sent in list_of_sentance: # for each review/sentence \n",
    "        sent_vec = np.zeros(50) # as word vectors are of zero length\n",
    "        weight_sum =0; # num of words with a valid vector in the sentence/review\n",
    "        for word in sent: # for each word in a review/sentence\n",
    "            if word in w2v_words and word in tfidf_feat:\n",
    "                vec = w2v_model.wv[word]\n",
    "                tf_idf = dictionary[word]*(sent.count(word)/len(sent))\n",
    "                sent_vec += (vec * tf_idf)\n",
    "                weight_sum += tf_idf\n",
    "        if weight_sum != 0:\n",
    "            sent_vec /= weight_sum\n",
    "        tfidf_sent_vectors.append(sent_vec)\n",
    "        row += 1\n",
    "    return tfidf_sent_vectors\n",
    "\n",
    "x_test_weighted = weighted_word_vector(model,x_test)"
   ]
  },
  {
   "cell_type": "code",
   "execution_count": 93,
   "metadata": {},
   "outputs": [
    {
     "name": "stdout",
     "output_type": "stream",
     "text": [
      "(67000, 50)\n",
      "(33000, 50)\n",
      "Best tunned parameter is {'C': 1}\n",
      "Train data accuracy is 87.434179% \n"
     ]
    },
    {
     "data": {
      "image/png": "[encoded data removed]",
      "text/plain": [
       "<Figure size 432x288 with 1 Axes>"
      ]
     },
     "metadata": {},
     "output_type": "display_data"
    }
   ],
   "source": [
    "x_train_weighted_stand = scale.fit_transform(x_train_weighted)\n",
    "x_test_weighted_stand = scale.fit_transform(x_test_weighted)\n",
    "print(x_train_weighted_stand.shape)\n",
    "print(x_test_weighted_stand.shape)\n",
    "\n",
    "#getting C value\n",
    "c = optimal_val(x=x_train_weighted_stand,y=y_train)"
   ]
  },
  {
   "cell_type": "markdown",
   "metadata": {},
   "source": [
    "### Testing C on test data using L1 regularizer"
   ]
  },
  {
   "cell_type": "code",
   "execution_count": 94,
   "metadata": {},
   "outputs": [
    {
     "data": {
      "image/png": "[encoded data removed]",
      "text/plain": [
       "<Figure size 432x288 with 1 Axes>"
      ]
     },
     "metadata": {},
     "output_type": "display_data"
    }
   ],
   "source": [
    "from sklearn.metrics import roc_curve, auc\n",
    "lr_model_l1 = LogisticRegression(C=c['C'] , penalty = 'l1')\n",
    "lr_model_l1.fit(x_train_weighted_stand,y_train)\n",
    "\n",
    "train_fpr, train_tpr, thresholds = roc_curve(y_train, lr_model_l1.predict_proba(x_train_weighted_stand)[:,1])\n",
    "test_fpr, test_tpr, thresholds = roc_curve(y_test, lr_model_l1.predict_proba(x_test_weighted_stand)[:,1])\n",
    "\n",
    "plt.plot(train_fpr, train_tpr, label=\"train AUC =\"+str(auc(train_fpr, train_tpr)))\n",
    "plt.plot(test_fpr, test_tpr, label=\"test AUC =\"+str(auc(test_fpr, test_tpr)))\n",
    "plt.legend()\n",
    "plt.xlabel(\"C: hyperparameter\")\n",
    "plt.ylabel(\"AUC\")\n",
    "plt.title(\"ERROR PLaOTS\")\n",
    "plt.show()"
   ]
  },
  {
   "cell_type": "markdown",
   "metadata": {},
   "source": [
    "### Testing C on test data using L2 regularizer"
   ]
  },
  {
   "cell_type": "code",
   "execution_count": 95,
   "metadata": {},
   "outputs": [
    {
     "data": {
      "image/png": "[encoded data removed]",
      "text/plain": [
       "<Figure size 432x288 with 1 Axes>"
      ]
     },
     "metadata": {},
     "output_type": "display_data"
    }
   ],
   "source": [
    "from sklearn.metrics import roc_curve, auc\n",
    "lr_model_l2 = LogisticRegression(C=c['C'] , penalty = 'l2')\n",
    "lr_model_l2.fit(x_train_weighted_stand,y_train)\n",
    "train_fpr, train_tpr, thresholds = roc_curve(y_train, lr_model_l1.predict_proba(x_train_weighted_stand)[:,1])\n",
    "test_fpr, test_tpr, thresholds = roc_curve(y_test, lr_model_l1.predict_proba(x_test_weighted_stand)[:,1])\n",
    "\n",
    "plt.plot(train_fpr, train_tpr, label=\"train AUC =\"+str(auc(train_fpr, train_tpr)))\n",
    "plt.plot(test_fpr, test_tpr, label=\"test AUC =\"+str(auc(test_fpr, test_tpr)))\n",
    "plt.legend()\n",
    "plt.xlabel(\"C: hyperparameter\")\n",
    "plt.ylabel(\"AUC\")\n",
    "plt.title(\"ERROR PLaOTS\")\n",
    "plt.show()"
   ]
  },
  {
   "cell_type": "markdown",
   "metadata": {},
   "source": [
    "### Confusion Matrix For Train data"
   ]
  },
  {
   "cell_type": "code",
   "execution_count": 96,
   "metadata": {},
   "outputs": [
    {
     "data": {
      "image/png": "[encoded data removed]",
      "text/plain": [
       "<Figure size 432x288 with 2 Axes>"
      ]
     },
     "metadata": {},
     "output_type": "display_data"
    }
   ],
   "source": [
    "# predict the response\n",
    "y_pred_tfidfw2v = lr_model_l2.predict(x_train_weighted_stand)\n",
    "\n",
    "#confusion matrix\n",
    "import seaborn as sns\n",
    "from sklearn.metrics import confusion_matrix,classification_report\n",
    "cm = confusion_matrix(y_train,y_pred_tfidfw2v)\n",
    "class_label = [\"negative\", \"positive\"]\n",
    "df_cm = pd.DataFrame(cm, index = class_label, columns = class_label)\n",
    "sns.heatmap(df_cm, annot = True, fmt = \"d\")\n",
    "plt.title(\"Confusiion Matrix\")\n",
    "plt.xlabel(\"Predicted Label\")\n",
    "plt.ylabel(\"True Label\")\n",
    "plt.show()"
   ]
  },
  {
   "cell_type": "code",
   "execution_count": 97,
   "metadata": {},
   "outputs": [
    {
     "name": "stdout",
     "output_type": "stream",
     "text": [
      "             precision    recall  f1-score   support\n",
      "\n",
      "          0       0.68      0.36      0.47      9810\n",
      "          1       0.90      0.97      0.93     57190\n",
      "\n",
      "avg / total       0.87      0.88      0.87     67000\n",
      "\n"
     ]
    }
   ],
   "source": [
    "print(classification_report(y_train ,y_pred_tfidfw2v))"
   ]
  },
  {
   "cell_type": "markdown",
   "metadata": {},
   "source": [
    "### Confusion Matrix For Train data"
   ]
  },
  {
   "cell_type": "code",
   "execution_count": 98,
   "metadata": {},
   "outputs": [
    {
     "data": {
      "image/png": "[encoded data removed]",
      "text/plain": [
       "<Figure size 432x288 with 2 Axes>"
      ]
     },
     "metadata": {},
     "output_type": "display_data"
    }
   ],
   "source": [
    "# predict the response\n",
    "y_pred_tfidfw2v = lr_model_l2.predict(x_test_weighted_stand)\n",
    "\n",
    "#confusion matrix\n",
    "import seaborn as sns\n",
    "from sklearn.metrics import confusion_matrix,classification_report\n",
    "cm = confusion_matrix(y_test,y_pred_tfidfw2v)\n",
    "class_label = [\"negative\", \"positive\"]\n",
    "df_cm = pd.DataFrame(cm, index = class_label, columns = class_label)\n",
    "sns.heatmap(df_cm, annot = True, fmt = \"d\")\n",
    "plt.title(\"Confusiion Matrix\")\n",
    "plt.xlabel(\"Predicted Label\")\n",
    "plt.ylabel(\"True Label\")\n",
    "plt.show()"
   ]
  },
  {
   "cell_type": "code",
   "execution_count": 99,
   "metadata": {},
   "outputs": [
    {
     "name": "stdout",
     "output_type": "stream",
     "text": [
      "             precision    recall  f1-score   support\n",
      "\n",
      "          0       0.61      0.33      0.42      4993\n",
      "          1       0.89      0.96      0.92     28007\n",
      "\n",
      "avg / total       0.85      0.87      0.85     33000\n",
      "\n"
     ]
    }
   ],
   "source": [
    "print(classification_report(y_test ,y_pred_tfidfw2v))"
   ]
  },
  {
   "cell_type": "markdown",
   "metadata": {},
   "source": [
    "## Conclusion"
   ]
  },
  {
   "cell_type": "code",
   "execution_count": 100,
   "metadata": {
    "scrolled": true
   },
   "outputs": [
    {
     "name": "stdout",
     "output_type": "stream",
     "text": [
      "+---------------------+--------------------+-------------------+------+\n",
      "|     Vectorizer      |       Model        | Hyper Parameter/C | AUC  |\n",
      "+---------------------+--------------------+-------------------+------+\n",
      "|         BOW         | LogisticRegression |         10        | 0.93 |\n",
      "|        TF-IDF       | LogisticRegression |         10        | 0.95 |\n",
      "|       AVG W2V       | LogisticRegression |         1         | 0.9  |\n",
      "| TF-IDF Weighted W2V | LogisticRegression |         1         | 0.84 |\n",
      "+---------------------+--------------------+-------------------+------+\n"
     ]
    }
   ],
   "source": [
    "#http://zetcode.com/python/prettytable/\n",
    "from prettytable import PrettyTable\n",
    "x = PrettyTable()\n",
    "x.field_names = [\"Vectorizer \", \"Model\", \"Hyper Parameter/C\", \"AUC\"]\n",
    "x.add_row([\"BOW\", \"LogisticRegression\", 10 , .93])\n",
    "x.add_row([\"TF-IDF\", \"LogisticRegression\", 10  , .95])\n",
    "x.add_row([\"AVG W2V\", \"LogisticRegression\", 1  , .90])\n",
    "x.add_row([\"TF-IDF Weighted W2V\", \"LogisticRegression\", 1  , .84])\n",
    "print(x)"
   ]
  },
  {
   "cell_type": "markdown",
   "metadata": {},
   "source": [
    " "
   ]
  },
  {
   "cell_type": "markdown",
   "metadata": {},
   "source": [
    " ## Observation"
   ]
  },
  {
   "cell_type": "markdown",
   "metadata": {},
   "source": [
    "## BOW\n",
    "- While applying additive smoothing the optimal C value for BOW is 10\n",
    "- From the ROC curve we can see that using 1/lambda = 10 the AUC achieved for test data is 93%\n",
    "- The f1-score for both train and test data comes approx 93% which proves that alpha = 10 is the\n",
    "  best parameter for additive       smoothing\n",
    "- worst,aw,wors,terribl,tasteless,threw,disappoint,bland,cancel,unfortun are top negative words\n",
    "- uniqu,delici,awesom,addict,amaz,perfect,best,yummi,excel,skeptic are top positive words\n",
    "\n",
    "## TF-IDF\n",
    "- While applying additive smoothing the optimal alpha value for TF-IDF is 10\n",
    "- From the ROC curve we can see that AUC of test in TF-IDF vectorizer is more than any other \n",
    "  vectorizer technique used\n",
    "- disappoint,worst,aw,two star,unfortun,terribl,wors,horribl,bland,threw are top negative words\n",
    "- great,delici,best,love,perfect,high recommend,excel,wont disappoint,addict,amaz are top positive words\n",
    "\n",
    "## W2V and Tf-Idf weighted W2V\n",
    "- Best C achieved is 10\n",
    "- AUC for these vectorizers decreased in comparision to above .90 and .84 respectively\n",
    "\n",
    "-----------------------------------------------------------------------------------------------------------\n",
    "\n",
    "- Pertubation test applied on both BOW and Tf-Idf shows a sudden change in %change values\n",
    "  between the normal Weight vector and added noise vector at 99%\n",
    "- After viewing the components having the percentage value less than that % change value. \n",
    "  We can clearly see the components are multicollinear\n",
    "  "
   ]
  }
 ],
 "metadata": {
  "kernelspec": {
   "display_name": "Python 3",
   "language": "python",
   "name": "python3"
  },
  "language_info": {
   "codemirror_mode": {
    "name": "ipython",
    "version": 3
   },
   "file_extension": ".py",
   "mimetype": "text/x-python",
   "name": "python",
   "nbconvert_exporter": "python",
   "pygments_lexer": "ipython3",
   "version": "3.6.5"
  }
 },
 "nbformat": 4,
 "nbformat_minor": 2
}
