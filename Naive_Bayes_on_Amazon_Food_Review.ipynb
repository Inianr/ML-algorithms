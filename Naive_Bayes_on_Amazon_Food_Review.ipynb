{
 "cells": [
  {
   "cell_type": "markdown",
   "metadata": {},
   "source": [
    "# Naive Bayes On Amazon Fine Food Reviews"
   ]
  },
  {
   "cell_type": "markdown",
   "metadata": {},
   "source": [
    "The Amazon Fine Food Reviews dataset consists of reviews of fine foods from Amazon.<br>\n",
    "\n",
    "Number of reviews: 568,454<br>\n",
    "Number of users: 256,059<br>\n",
    "Number of products: 74,258<br>\n",
    "Timespan: Oct 1999 - Oct 2012<br>\n",
    "Number of Attributes/Columns in data: 10 \n",
    "\n",
    "Attribute Information:\n",
    "\n",
    "1. Id\n",
    "2. ProductId - unique identifier for the product\n",
    "3. UserId - unqiue identifier for the user\n",
    "4. ProfileName\n",
    "5. HelpfulnessNumerator - number of users who found the review helpful\n",
    "6. HelpfulnessDenominator - number of users who indicated whether they found the review helpful or not\n",
    "7. Score - rating between 1 and 5\n",
    "8. Time - timestamp for the review\n",
    "9. Summary - brief summary of the review\n",
    "10. Text - text of the review\n"
   ]
  },
  {
   "cell_type": "markdown",
   "metadata": {},
   "source": [
    "### Objective\n",
    "* To classify the positive and negative reviews.\n",
    "\n",
    "###  How to classify?\n",
    "* By applying vectorization techniques such as BOW, TF-IDF.\n",
    "* Applying Naive bayes on above vectors. \n",
    "* Column used to check the Acuracy will be Score.\n",
    "  - Positive review (rating 4-5)\n",
    "  - Negative review (rating 1-2)"
   ]
  },
  {
   "cell_type": "markdown",
   "metadata": {},
   "source": [
    "## Loading Data"
   ]
  },
  {
   "cell_type": "code",
   "execution_count": 1,
   "metadata": {},
   "outputs": [
    {
     "name": "stdout",
     "output_type": "stream",
     "text": [
      "Review data is loaded with 525814 rows and 10 columns\n"
     ]
    },
    {
     "data": {
      "text/html": [
       "<div>\n",
       "<style scoped>\n",
       "    .dataframe tbody tr th:only-of-type {\n",
       "        vertical-align: middle;\n",
       "    }\n",
       "\n",
       "    .dataframe tbody tr th {\n",
       "        vertical-align: top;\n",
       "    }\n",
       "\n",
       "    .dataframe thead th {\n",
       "        text-align: right;\n",
       "    }\n",
       "</style>\n",
       "<table border=\"1\" class=\"dataframe\">\n",
       "  <thead>\n",
       "    <tr style=\"text-align: right;\">\n",
       "      <th></th>\n",
       "      <th>Id</th>\n",
       "      <th>ProductId</th>\n",
       "      <th>UserId</th>\n",
       "      <th>ProfileName</th>\n",
       "      <th>HelpfulnessNumerator</th>\n",
       "      <th>HelpfulnessDenominator</th>\n",
       "      <th>Score</th>\n",
       "      <th>Time</th>\n",
       "      <th>Summary</th>\n",
       "      <th>Text</th>\n",
       "    </tr>\n",
       "  </thead>\n",
       "  <tbody>\n",
       "    <tr>\n",
       "      <th>0</th>\n",
       "      <td>1</td>\n",
       "      <td>B001E4KFG0</td>\n",
       "      <td>A3SGXH7AUHU8GW</td>\n",
       "      <td>delmartian</td>\n",
       "      <td>1</td>\n",
       "      <td>1</td>\n",
       "      <td>1</td>\n",
       "      <td>1303862400</td>\n",
       "      <td>Good Quality Dog Food</td>\n",
       "      <td>I have bought several of the Vitality canned d...</td>\n",
       "    </tr>\n",
       "    <tr>\n",
       "      <th>1</th>\n",
       "      <td>2</td>\n",
       "      <td>B00813GRG4</td>\n",
       "      <td>A1D87F6ZCVE5NK</td>\n",
       "      <td>dll pa</td>\n",
       "      <td>0</td>\n",
       "      <td>0</td>\n",
       "      <td>0</td>\n",
       "      <td>1346976000</td>\n",
       "      <td>Not as Advertised</td>\n",
       "      <td>Product arrived labeled as Jumbo Salted Peanut...</td>\n",
       "    </tr>\n",
       "    <tr>\n",
       "      <th>2</th>\n",
       "      <td>3</td>\n",
       "      <td>B000LQOCH0</td>\n",
       "      <td>ABXLMWJIXXAIN</td>\n",
       "      <td>Natalia Corres \"Natalia Corres\"</td>\n",
       "      <td>1</td>\n",
       "      <td>1</td>\n",
       "      <td>1</td>\n",
       "      <td>1219017600</td>\n",
       "      <td>\"Delight\" says it all</td>\n",
       "      <td>This is a confection that has been around a fe...</td>\n",
       "    </tr>\n",
       "    <tr>\n",
       "      <th>3</th>\n",
       "      <td>4</td>\n",
       "      <td>B000UA0QIQ</td>\n",
       "      <td>A395BORC6FGVXV</td>\n",
       "      <td>Karl</td>\n",
       "      <td>3</td>\n",
       "      <td>3</td>\n",
       "      <td>0</td>\n",
       "      <td>1307923200</td>\n",
       "      <td>Cough Medicine</td>\n",
       "      <td>If you are looking for the secret ingredient i...</td>\n",
       "    </tr>\n",
       "    <tr>\n",
       "      <th>4</th>\n",
       "      <td>5</td>\n",
       "      <td>B006K2ZZ7K</td>\n",
       "      <td>A1UQRSCLF8GW1T</td>\n",
       "      <td>Michael D. Bigham \"M. Wassir\"</td>\n",
       "      <td>0</td>\n",
       "      <td>0</td>\n",
       "      <td>1</td>\n",
       "      <td>1350777600</td>\n",
       "      <td>Great taffy</td>\n",
       "      <td>Great taffy at a great price.  There was a wid...</td>\n",
       "    </tr>\n",
       "  </tbody>\n",
       "</table>\n",
       "</div>"
      ],
      "text/plain": [
       "   Id   ProductId          UserId                      ProfileName  \\\n",
       "0   1  B001E4KFG0  A3SGXH7AUHU8GW                       delmartian   \n",
       "1   2  B00813GRG4  A1D87F6ZCVE5NK                           dll pa   \n",
       "2   3  B000LQOCH0   ABXLMWJIXXAIN  Natalia Corres \"Natalia Corres\"   \n",
       "3   4  B000UA0QIQ  A395BORC6FGVXV                             Karl   \n",
       "4   5  B006K2ZZ7K  A1UQRSCLF8GW1T    Michael D. Bigham \"M. Wassir\"   \n",
       "\n",
       "   HelpfulnessNumerator  HelpfulnessDenominator  Score        Time  \\\n",
       "0                     1                       1      1  1303862400   \n",
       "1                     0                       0      0  1346976000   \n",
       "2                     1                       1      1  1219017600   \n",
       "3                     3                       3      0  1307923200   \n",
       "4                     0                       0      1  1350777600   \n",
       "\n",
       "                 Summary                                               Text  \n",
       "0  Good Quality Dog Food  I have bought several of the Vitality canned d...  \n",
       "1      Not as Advertised  Product arrived labeled as Jumbo Salted Peanut...  \n",
       "2  \"Delight\" says it all  This is a confection that has been around a fe...  \n",
       "3         Cough Medicine  If you are looking for the secret ingredient i...  \n",
       "4            Great taffy  Great taffy at a great price.  There was a wid...  "
      ]
     },
     "execution_count": 1,
     "metadata": {},
     "output_type": "execute_result"
    }
   ],
   "source": [
    "%matplotlib inline\n",
    "import warnings as wr\n",
    "wr.filterwarnings('ignore')\n",
    "\n",
    "import sqlite3\n",
    "import pandas as pd\n",
    "import numpy as np\n",
    "import matplotlib.pyplot as plt\n",
    "\n",
    "con = sqlite3.connect('database.sqlite') #building connnection with database\n",
    "review_data = pd.read_sql_query('''select * from Reviews where Score != 3''',con)#importing data from database\n",
    "\n",
    "#function to replace rating with 1(+ve) or 0(-ve)\n",
    "def Replace_rate(x):\n",
    "    if x < 3:\n",
    "        return 0\n",
    "    else:\n",
    "        return 1\n",
    "\n",
    "OldScore = review_data['Score']\n",
    "NewScore = OldScore.map(Replace_rate)\n",
    "review_data['Score'] = NewScore\n",
    "print('Review data is loaded with {0} rows and {1} columns'.format(review_data.shape[0],review_data.shape[1]))\n",
    "review_data.head()\n",
    "\n"
   ]
  },
  {
   "cell_type": "markdown",
   "metadata": {},
   "source": [
    "## Data Preprocessing"
   ]
  },
  {
   "cell_type": "markdown",
   "metadata": {},
   "source": [
    "### Removing duplicate data"
   ]
  },
  {
   "cell_type": "code",
   "execution_count": 2,
   "metadata": {},
   "outputs": [
    {
     "data": {
      "text/plain": [
       "(75346, 7)"
      ]
     },
     "execution_count": 2,
     "metadata": {},
     "output_type": "execute_result"
    }
   ],
   "source": [
    "#Checking for duplicate data \n",
    "duplicate_data = pd.read_sql_query('''select UserId, ProductId, ProfileName, Time, Score, Text, count(*) as count from Reviews where \n",
    "Score != 3 group by UserId having count(*) > 1 ''',con)\n",
    "\n",
    "duplicate_data.shape"
   ]
  },
  {
   "cell_type": "code",
   "execution_count": 3,
   "metadata": {},
   "outputs": [
    {
     "name": "stdout",
     "output_type": "stream",
     "text": [
      "Data before de-duplication had 525814 rows and 10 columns\n",
      "Data after de-duplication had 364173 rows and 10 columns\n"
     ]
    }
   ],
   "source": [
    "#removing duplicate data\n",
    "print('Data before de-duplication had {} rows and {} columns'.format(review_data.shape[0],review_data.shape[1]))\n",
    "review_data = review_data.sort_values('ProductId',axis = 0, ascending=True, inplace=False, kind='quicksort', na_position='last')\n",
    "\n",
    "review_data = review_data.drop_duplicates(subset={\"UserId\",\"ProfileName\",\"Time\",\"Text\"}, keep='first', inplace=False)\n",
    "print('Data after de-duplication had {} rows and {} columns'.format(review_data.shape[0],review_data.shape[1]))"
   ]
  },
  {
   "cell_type": "code",
   "execution_count": 4,
   "metadata": {},
   "outputs": [
    {
     "data": {
      "text/plain": [
       "(364171, 10)"
      ]
     },
     "execution_count": 4,
     "metadata": {},
     "output_type": "execute_result"
    }
   ],
   "source": [
    "# Helpfulness denominator should be always greater than numerator\n",
    "review_data = review_data[review_data.HelpfulnessNumerator <= review_data.HelpfulnessDenominator]\n",
    "review_data.shape"
   ]
  },
  {
   "cell_type": "markdown",
   "metadata": {},
   "source": [
    "### Cleaning the data\n",
    "* Removing html tags\n",
    "* Removing stopwords\n",
    "* Converting words to lower case\n",
    "* Removing alphanumeric value \n",
    "* Lemmitizing the data"
   ]
  },
  {
   "cell_type": "code",
   "execution_count": 5,
   "metadata": {
    "scrolled": false
   },
   "outputs": [
    {
     "name": "stderr",
     "output_type": "stream",
     "text": [
      "100%|████████████████████████████████████████████████████████████████████████| 364171/364171 [05:38<00:00, 1076.76it/s]\n"
     ]
    }
   ],
   "source": [
    "import re\n",
    "import os\n",
    "import nltk\n",
    "import string\n",
    "from tqdm import tqdm\n",
    "from nltk.corpus import stopwords \n",
    "\n",
    "sno = nltk.stem.SnowballStemmer('english')#initialise stemmer\n",
    "stop = set(stopwords.words('english'))\n",
    "\n",
    "def cleanhtml(sentence): #function to clean the word of any html-tags\n",
    "    cleanr = re.compile('<.*?>')\n",
    "    cleantext = re.sub(cleanr, ' ', sentence)\n",
    "    return cleantext\n",
    "\n",
    "def cleanpunc(sentence): #function to clean the word of any punctuation or special characters\n",
    "    cleaned = re.sub(r'[?|!|\\'|\"|#]',r'',sentence)\n",
    "    cleaned = re.sub(r'[.|,|)|(|\\|/]',r' ',cleaned)\n",
    "    return  cleaned\n",
    "\n",
    "\n",
    "if not os.path.isfile('final.sqlite'):\n",
    "    final_string = []\n",
    "    for i, sent in enumerate(tqdm(review_data['Text'].values)):\n",
    "        filtered_sentence=[]\n",
    "        sent = cleanhtml(sent)\n",
    "        for w in sent.split():\n",
    "            for cleanwords in cleanpunc(w).split():\n",
    "                #we are spliting the data two time because after first splitting there may be a possibility that we can get a word\n",
    "                # 'abc.def' which after the second split will become two words 'abc' 'def'\n",
    "                if((cleanwords.isalpha()) and (len(cleanwords)>2)): # there is no adjective with length 2\n",
    "                    if(cleanwords.lower() not in stop):\n",
    "                        s=(sno.stem(cleanwords.lower())).encode('utf8')\n",
    "                        filtered_sentence.append(s)\n",
    "        str1 = b\" \".join(filtered_sentence)\n",
    "        final_string.append(str1)\n",
    "        "
   ]
  },
  {
   "cell_type": "code",
   "execution_count": 6,
   "metadata": {},
   "outputs": [],
   "source": [
    "#storing the data in a database(.sqlite file)\n",
    "review_data['CleanedText'] = final_string\n",
    "review_data['CleanedText']=review_data['CleanedText'].str.decode(\"utf-8\")\n",
    "conn = sqlite3.connect('final.sqlite')\n",
    "c = conn.cursor()\n",
    "conn.text_factory = str\n",
    "review_data.to_sql('Reviews', conn,  schema=None, if_exists='replace', \\\n",
    "                 index=True, index_label=None, chunksize=None, dtype=None)\n",
    "conn.close()"
   ]
  },
  {
   "cell_type": "code",
   "execution_count": 7,
   "metadata": {},
   "outputs": [
    {
     "name": "stdout",
     "output_type": "stream",
     "text": [
      "(364171, 12)\n"
     ]
    },
    {
     "data": {
      "text/html": [
       "<div>\n",
       "<style scoped>\n",
       "    .dataframe tbody tr th:only-of-type {\n",
       "        vertical-align: middle;\n",
       "    }\n",
       "\n",
       "    .dataframe tbody tr th {\n",
       "        vertical-align: top;\n",
       "    }\n",
       "\n",
       "    .dataframe thead th {\n",
       "        text-align: right;\n",
       "    }\n",
       "</style>\n",
       "<table border=\"1\" class=\"dataframe\">\n",
       "  <thead>\n",
       "    <tr style=\"text-align: right;\">\n",
       "      <th></th>\n",
       "      <th>index</th>\n",
       "      <th>Id</th>\n",
       "      <th>ProductId</th>\n",
       "      <th>UserId</th>\n",
       "      <th>ProfileName</th>\n",
       "      <th>HelpfulnessNumerator</th>\n",
       "      <th>HelpfulnessDenominator</th>\n",
       "      <th>Score</th>\n",
       "      <th>Time</th>\n",
       "      <th>Summary</th>\n",
       "      <th>Text</th>\n",
       "      <th>CleanedText</th>\n",
       "    </tr>\n",
       "  </thead>\n",
       "  <tbody>\n",
       "    <tr>\n",
       "      <th>0</th>\n",
       "      <td>138706</td>\n",
       "      <td>150524</td>\n",
       "      <td>0006641040</td>\n",
       "      <td>ACITT7DI6IDDL</td>\n",
       "      <td>shari zychinski</td>\n",
       "      <td>0</td>\n",
       "      <td>0</td>\n",
       "      <td>1</td>\n",
       "      <td>939340800</td>\n",
       "      <td>EVERY book is educational</td>\n",
       "      <td>this witty little book makes my son laugh at l...</td>\n",
       "      <td>witti littl book make son laugh loud recit car...</td>\n",
       "    </tr>\n",
       "    <tr>\n",
       "      <th>1</th>\n",
       "      <td>138688</td>\n",
       "      <td>150506</td>\n",
       "      <td>0006641040</td>\n",
       "      <td>A2IW4PEEKO2R0U</td>\n",
       "      <td>Tracy</td>\n",
       "      <td>1</td>\n",
       "      <td>1</td>\n",
       "      <td>1</td>\n",
       "      <td>1194739200</td>\n",
       "      <td>Love the book, miss the hard cover version</td>\n",
       "      <td>I grew up reading these Sendak books, and watc...</td>\n",
       "      <td>grew read sendak book watch realli rosi movi i...</td>\n",
       "    </tr>\n",
       "    <tr>\n",
       "      <th>2</th>\n",
       "      <td>138689</td>\n",
       "      <td>150507</td>\n",
       "      <td>0006641040</td>\n",
       "      <td>A1S4A3IQ2MU7V4</td>\n",
       "      <td>sally sue \"sally sue\"</td>\n",
       "      <td>1</td>\n",
       "      <td>1</td>\n",
       "      <td>1</td>\n",
       "      <td>1191456000</td>\n",
       "      <td>chicken soup with rice months</td>\n",
       "      <td>This is a fun way for children to learn their ...</td>\n",
       "      <td>fun way children learn month year learn poem t...</td>\n",
       "    </tr>\n",
       "    <tr>\n",
       "      <th>3</th>\n",
       "      <td>138690</td>\n",
       "      <td>150508</td>\n",
       "      <td>0006641040</td>\n",
       "      <td>AZGXZ2UUK6X</td>\n",
       "      <td>Catherine Hallberg \"(Kate)\"</td>\n",
       "      <td>1</td>\n",
       "      <td>1</td>\n",
       "      <td>1</td>\n",
       "      <td>1076025600</td>\n",
       "      <td>a good swingy rhythm for reading aloud</td>\n",
       "      <td>This is a great little book to read aloud- it ...</td>\n",
       "      <td>great littl book read nice rhythm well good re...</td>\n",
       "    </tr>\n",
       "    <tr>\n",
       "      <th>4</th>\n",
       "      <td>138691</td>\n",
       "      <td>150509</td>\n",
       "      <td>0006641040</td>\n",
       "      <td>A3CMRKGE0P909G</td>\n",
       "      <td>Teresa</td>\n",
       "      <td>3</td>\n",
       "      <td>4</td>\n",
       "      <td>1</td>\n",
       "      <td>1018396800</td>\n",
       "      <td>A great way to learn the months</td>\n",
       "      <td>This is a book of poetry about the months of t...</td>\n",
       "      <td>book poetri month year goe month cute littl po...</td>\n",
       "    </tr>\n",
       "  </tbody>\n",
       "</table>\n",
       "</div>"
      ],
      "text/plain": [
       "    index      Id   ProductId          UserId                  ProfileName  \\\n",
       "0  138706  150524  0006641040   ACITT7DI6IDDL              shari zychinski   \n",
       "1  138688  150506  0006641040  A2IW4PEEKO2R0U                        Tracy   \n",
       "2  138689  150507  0006641040  A1S4A3IQ2MU7V4        sally sue \"sally sue\"   \n",
       "3  138690  150508  0006641040     AZGXZ2UUK6X  Catherine Hallberg \"(Kate)\"   \n",
       "4  138691  150509  0006641040  A3CMRKGE0P909G                       Teresa   \n",
       "\n",
       "   HelpfulnessNumerator  HelpfulnessDenominator  Score        Time  \\\n",
       "0                     0                       0      1   939340800   \n",
       "1                     1                       1      1  1194739200   \n",
       "2                     1                       1      1  1191456000   \n",
       "3                     1                       1      1  1076025600   \n",
       "4                     3                       4      1  1018396800   \n",
       "\n",
       "                                      Summary  \\\n",
       "0                   EVERY book is educational   \n",
       "1  Love the book, miss the hard cover version   \n",
       "2               chicken soup with rice months   \n",
       "3      a good swingy rhythm for reading aloud   \n",
       "4             A great way to learn the months   \n",
       "\n",
       "                                                Text  \\\n",
       "0  this witty little book makes my son laugh at l...   \n",
       "1  I grew up reading these Sendak books, and watc...   \n",
       "2  This is a fun way for children to learn their ...   \n",
       "3  This is a great little book to read aloud- it ...   \n",
       "4  This is a book of poetry about the months of t...   \n",
       "\n",
       "                                         CleanedText  \n",
       "0  witti littl book make son laugh loud recit car...  \n",
       "1  grew read sendak book watch realli rosi movi i...  \n",
       "2  fun way children learn month year learn poem t...  \n",
       "3  great littl book read nice rhythm well good re...  \n",
       "4  book poetri month year goe month cute littl po...  "
      ]
     },
     "execution_count": 7,
     "metadata": {},
     "output_type": "execute_result"
    }
   ],
   "source": [
    "#importing preprocessed data into a new dataframe\n",
    "conn = sqlite3.connect('final.sqlite')\n",
    "preprocessed_data = pd.read_sql_query('''select * from Reviews''',conn)\n",
    "print(preprocessed_data.shape)\n",
    "preprocessed_data.head()"
   ]
  },
  {
   "cell_type": "code",
   "execution_count": 8,
   "metadata": {},
   "outputs": [],
   "source": [
    "#https://www.programiz.com/python-programming/datetime/strftime\n",
    "#converting given time with format %m/%d/%Y, %H:%M:%S\n",
    "from datetime import datetime\n",
    "\n",
    "timestamp = preprocessed_data['Time']\n",
    "time_data=[]\n",
    "for i in timestamp:\n",
    "    date_time = datetime.fromtimestamp(i)\n",
    "    d = date_time.strftime(\"%m/%d/%Y, %H:%M:%S\")\n",
    "    time_data.append(d)\n",
    "\n",
    "preprocessed_data['Time'] = time_data"
   ]
  },
  {
   "cell_type": "code",
   "execution_count": 9,
   "metadata": {},
   "outputs": [
    {
     "data": {
      "text/html": [
       "<div>\n",
       "<style scoped>\n",
       "    .dataframe tbody tr th:only-of-type {\n",
       "        vertical-align: middle;\n",
       "    }\n",
       "\n",
       "    .dataframe tbody tr th {\n",
       "        vertical-align: top;\n",
       "    }\n",
       "\n",
       "    .dataframe thead th {\n",
       "        text-align: right;\n",
       "    }\n",
       "</style>\n",
       "<table border=\"1\" class=\"dataframe\">\n",
       "  <thead>\n",
       "    <tr style=\"text-align: right;\">\n",
       "      <th></th>\n",
       "      <th>index</th>\n",
       "      <th>Id</th>\n",
       "      <th>ProductId</th>\n",
       "      <th>UserId</th>\n",
       "      <th>ProfileName</th>\n",
       "      <th>HelpfulnessNumerator</th>\n",
       "      <th>HelpfulnessDenominator</th>\n",
       "      <th>Score</th>\n",
       "      <th>Time</th>\n",
       "      <th>Summary</th>\n",
       "      <th>Text</th>\n",
       "      <th>CleanedText</th>\n",
       "    </tr>\n",
       "  </thead>\n",
       "  <tbody>\n",
       "    <tr>\n",
       "      <th>0</th>\n",
       "      <td>516061</td>\n",
       "      <td>557949</td>\n",
       "      <td>B0000DJDL4</td>\n",
       "      <td>A1Y20KNCR0SZA1</td>\n",
       "      <td>Dessartfamily \"grandmasoven\"</td>\n",
       "      <td>8</td>\n",
       "      <td>9</td>\n",
       "      <td>1</td>\n",
       "      <td>01/01/2004, 05:30:00</td>\n",
       "      <td>The best Kringles ever</td>\n",
       "      <td>Others try to make kringles but there is only ...</td>\n",
       "      <td>other tri make kringl one bakeri make real dan...</td>\n",
       "    </tr>\n",
       "    <tr>\n",
       "      <th>1</th>\n",
       "      <td>420655</td>\n",
       "      <td>454893</td>\n",
       "      <td>B00032EGHI</td>\n",
       "      <td>A1XBSM55RTS2IT</td>\n",
       "      <td>Celine Johnson \"C. Johnson\"</td>\n",
       "      <td>8</td>\n",
       "      <td>8</td>\n",
       "      <td>1</td>\n",
       "      <td>01/01/2006, 05:30:00</td>\n",
       "      <td>Vanilla Coke is On Hiatus</td>\n",
       "      <td>I just read a press release from Coca-Cola tha...</td>\n",
       "      <td>read press releas vanilla coke put hiatus best...</td>\n",
       "    </tr>\n",
       "    <tr>\n",
       "      <th>2</th>\n",
       "      <td>309826</td>\n",
       "      <td>335493</td>\n",
       "      <td>B0002HVDNY</td>\n",
       "      <td>A3FVAWZNKW9GX</td>\n",
       "      <td>A.Trendl HungarianBookstore.com \"What should ...</td>\n",
       "      <td>1</td>\n",
       "      <td>2</td>\n",
       "      <td>1</td>\n",
       "      <td>01/01/2006, 05:30:00</td>\n",
       "      <td>Slowly Smoked Pork is Delicious</td>\n",
       "      <td>I buy Karaj Hungarian Pork Loin regularly at o...</td>\n",
       "      <td>buy karaj hungarian pork loin regular local hu...</td>\n",
       "    </tr>\n",
       "    <tr>\n",
       "      <th>3</th>\n",
       "      <td>473796</td>\n",
       "      <td>512403</td>\n",
       "      <td>B0000D15YQ</td>\n",
       "      <td>A1DEBB7A9T1XS</td>\n",
       "      <td>Luca Varallo \"lvarallo\"</td>\n",
       "      <td>12</td>\n",
       "      <td>13</td>\n",
       "      <td>1</td>\n",
       "      <td>01/01/2006, 05:30:00</td>\n",
       "      <td>Got to be an Italian to drink this</td>\n",
       "      <td>The name sanbitter (san pellegrino bitter) tel...</td>\n",
       "      <td>name sanbitt san pellegrino bitter tell typic ...</td>\n",
       "    </tr>\n",
       "    <tr>\n",
       "      <th>4</th>\n",
       "      <td>136175</td>\n",
       "      <td>147794</td>\n",
       "      <td>B0001BVO9Y</td>\n",
       "      <td>A2MWBSYJR74S75</td>\n",
       "      <td>R. Murphy</td>\n",
       "      <td>12</td>\n",
       "      <td>12</td>\n",
       "      <td>1</td>\n",
       "      <td>01/01/2006, 05:30:00</td>\n",
       "      <td>Wonderful on it's own or mixed in drinks</td>\n",
       "      <td>This is the finest Cola I have found yet.&lt;br /...</td>\n",
       "      <td>finest cola found yet small store near sell bo...</td>\n",
       "    </tr>\n",
       "  </tbody>\n",
       "</table>\n",
       "</div>"
      ],
      "text/plain": [
       "    index      Id   ProductId          UserId  \\\n",
       "0  516061  557949  B0000DJDL4  A1Y20KNCR0SZA1   \n",
       "1  420655  454893  B00032EGHI  A1XBSM55RTS2IT   \n",
       "2  309826  335493  B0002HVDNY   A3FVAWZNKW9GX   \n",
       "3  473796  512403  B0000D15YQ   A1DEBB7A9T1XS   \n",
       "4  136175  147794  B0001BVO9Y  A2MWBSYJR74S75   \n",
       "\n",
       "                                        ProfileName  HelpfulnessNumerator  \\\n",
       "0                      Dessartfamily \"grandmasoven\"                     8   \n",
       "1                       Celine Johnson \"C. Johnson\"                     8   \n",
       "2  A.Trendl HungarianBookstore.com \"What should ...                     1   \n",
       "3                           Luca Varallo \"lvarallo\"                    12   \n",
       "4                                         R. Murphy                    12   \n",
       "\n",
       "   HelpfulnessDenominator  Score                  Time  \\\n",
       "0                       9      1  01/01/2004, 05:30:00   \n",
       "1                       8      1  01/01/2006, 05:30:00   \n",
       "2                       2      1  01/01/2006, 05:30:00   \n",
       "3                      13      1  01/01/2006, 05:30:00   \n",
       "4                      12      1  01/01/2006, 05:30:00   \n",
       "\n",
       "                                    Summary  \\\n",
       "0                    The best Kringles ever   \n",
       "1                 Vanilla Coke is On Hiatus   \n",
       "2           Slowly Smoked Pork is Delicious   \n",
       "3        Got to be an Italian to drink this   \n",
       "4  Wonderful on it's own or mixed in drinks   \n",
       "\n",
       "                                                Text  \\\n",
       "0  Others try to make kringles but there is only ...   \n",
       "1  I just read a press release from Coca-Cola tha...   \n",
       "2  I buy Karaj Hungarian Pork Loin regularly at o...   \n",
       "3  The name sanbitter (san pellegrino bitter) tel...   \n",
       "4  This is the finest Cola I have found yet.<br /...   \n",
       "\n",
       "                                         CleanedText  \n",
       "0  other tri make kringl one bakeri make real dan...  \n",
       "1  read press releas vanilla coke put hiatus best...  \n",
       "2  buy karaj hungarian pork loin regular local hu...  \n",
       "3  name sanbitt san pellegrino bitter tell typic ...  \n",
       "4  finest cola found yet small store near sell bo...  "
      ]
     },
     "execution_count": 9,
     "metadata": {},
     "output_type": "execute_result"
    }
   ],
   "source": [
    "#sorting values according to time\n",
    "processed_data = preprocessed_data.sort_values('Time',axis=0).reset_index(drop=True)\n",
    "processed_data.head()"
   ]
  },
  {
   "cell_type": "markdown",
   "metadata": {},
   "source": [
    "### Splitting Data Based on Time"
   ]
  },
  {
   "cell_type": "code",
   "execution_count": 10,
   "metadata": {},
   "outputs": [],
   "source": [
    "#splitting the data into train and test set\n",
    "import math\n",
    "%matplotlib inline\n",
    "import warnings as wr\n",
    "wr.filterwarnings('ignore')\n",
    "\n",
    "from sklearn.model_selection import train_test_split\n",
    "\n",
    "X = processed_data['CleanedText']\n",
    "Y = processed_data['Score']\n",
    "x_train, x_test, y_train, y_test = train_test_split(X, Y, test_size=0.33, shuffle=False)"
   ]
  },
  {
   "cell_type": "markdown",
   "metadata": {},
   "source": [
    "### Hyperparameter tuning for alpha using gridsearch"
   ]
  },
  {
   "cell_type": "code",
   "execution_count": 11,
   "metadata": {},
   "outputs": [],
   "source": [
    "# this function is defined to reduce the coding effort to find k value for each vectorization technique\n",
    "from sklearn.model_selection import GridSearchCV\n",
    "from sklearn.naive_bayes import MultinomialNB\n",
    "from sklearn.model_selection import TimeSeriesSplit\n",
    "import math\n",
    "def optimal_alpha_val(x,y):\n",
    "    \n",
    "    a = [.00001,.0001,.001,.01,1,10,100,1000,10000]\n",
    "    alpha = [math.log(i) for i in a]\n",
    "    naive = MultinomialNB()\n",
    "    tscv = TimeSeriesSplit(n_splits=10)#https://stackoverflow.com/questions/53252832/how-to-find-top-features-from-naive-bayes-using-sklearn-pipeline\n",
    "    parameters = {'alpha': a}\n",
    "    clf = GridSearchCV(naive, parameters, cv=tscv, scoring='roc_auc')\n",
    "    clf.fit(x, y)\n",
    "    \n",
    "    train_auc= clf.cv_results_['mean_train_score']\n",
    "    train_auc_std= clf.cv_results_['std_train_score']\n",
    "    cv_auc = clf.cv_results_['mean_test_score'] \n",
    "    cv_auc_std= clf.cv_results_['std_test_score']\n",
    "    \n",
    "    print('Best tunned parameter is',clf.best_params_)\n",
    "    print('Train data accuracy is %f%% '%(clf.best_score_*100))\n",
    "    \n",
    "    plt.plot(alpha, train_auc, label='Train AUC')\n",
    "    # this code is copied from here: https://stackoverflow.com/a/48803361/4084039\n",
    "    plt.gca().fill_between(alpha,train_auc - train_auc_std,train_auc + train_auc_std,alpha=0.2,color='darkblue')\n",
    "    \n",
    "    plt.plot(alpha, cv_auc, label='CV AUC')\n",
    "    # this code is copied from here: https://stackoverflow.com/a/48803361/4084039\n",
    "    plt.gca().fill_between(alpha,cv_auc - cv_auc_std,cv_auc + cv_auc_std,alpha=0.2,color='darkorange')\n",
    "    plt.legend()\n",
    "    plt.xlabel(\"K: hyperparameter\")\n",
    "    plt.ylabel(\"AUC\")\n",
    "    plt.title(\"ERROR PLOTS\")\n",
    "    plt.show()\n",
    "    return clf.best_params_"
   ]
  },
  {
   "cell_type": "markdown",
   "metadata": {},
   "source": [
    "## BOW"
   ]
  },
  {
   "cell_type": "code",
   "execution_count": 12,
   "metadata": {},
   "outputs": [
    {
     "name": "stdout",
     "output_type": "stream",
     "text": [
      "(243994, 58493)\n",
      "(120177, 58493)\n"
     ]
    }
   ],
   "source": [
    "from sklearn.feature_extraction.text import CountVectorizer\n",
    "count_vect = CountVectorizer()\n",
    "x_train_bow = count_vect.fit_transform(x_train)\n",
    "x_test_bow = count_vect.transform(x_test)\n",
    "print(x_train_bow.shape)\n",
    "print(x_test_bow.shape)"
   ]
  },
  {
   "cell_type": "code",
   "execution_count": 13,
   "metadata": {},
   "outputs": [
    {
     "name": "stdout",
     "output_type": "stream",
     "text": [
      "Best tunned parameter is {'alpha': 1}\n",
      "Train data accuracy is 89.642484% \n"
     ]
    },
    {
     "data": {
      "image/png": "[encoded data removed]",
      "text/plain": [
       "<Figure size 432x288 with 1 Axes>"
      ]
     },
     "metadata": {},
     "output_type": "display_data"
    }
   ],
   "source": [
    "alpha=optimal_alpha_val(x=x_train_bow,y=y_train)"
   ]
  },
  {
   "cell_type": "markdown",
   "metadata": {},
   "source": [
    "### Testing Alpha on test data"
   ]
  },
  {
   "cell_type": "code",
   "execution_count": 14,
   "metadata": {},
   "outputs": [
    {
     "data": {
      "image/png": "[encoded data removed]",
      "text/plain": [
       "<Figure size 432x288 with 1 Axes>"
      ]
     },
     "metadata": {},
     "output_type": "display_data"
    }
   ],
   "source": [
    "from sklearn.metrics import roc_curve, auc\n",
    "naive = MultinomialNB(alpha=alpha['alpha'])\n",
    "naive.fit(x_train_bow,y_train)\n",
    "train_fpr, train_tpr, thresholds = roc_curve(y_train, naive.predict_proba(x_train_bow)[:,1])\n",
    "test_fpr, test_tpr, thresholds = roc_curve(y_test, naive.predict_proba(x_test_bow)[:,1])\n",
    "\n",
    "plt.plot(train_fpr, train_tpr, label=\"train AUC =\"+str(auc(train_fpr, train_tpr)))\n",
    "plt.plot(test_fpr, test_tpr, label=\"test AUC =\"+str(auc(test_fpr, test_tpr)))\n",
    "plt.legend()\n",
    "plt.xlabel(\"Alpha: hyperparameter\")\n",
    "plt.ylabel(\"AUC\")\n",
    "plt.title(\"ERROR PLOTS\")\n",
    "plt.show()"
   ]
  },
  {
   "cell_type": "markdown",
   "metadata": {},
   "source": [
    "### Confusion Matrix For Train Data"
   ]
  },
  {
   "cell_type": "code",
   "execution_count": 15,
   "metadata": {},
   "outputs": [
    {
     "data": {
      "image/png": "[encoded data removed]",
      "text/plain": [
       "<Figure size 432x288 with 2 Axes>"
      ]
     },
     "metadata": {},
     "output_type": "display_data"
    }
   ],
   "source": [
    "# predict the response\n",
    "y_pred_bow = naive.predict(x_train_bow)\n",
    "\n",
    "#confusion matrix\n",
    "import seaborn as sns\n",
    "from sklearn.metrics import confusion_matrix,classification_report\n",
    "cm = confusion_matrix(y_train,y_pred_bow)\n",
    "class_label = [\"negative\", \"positive\"]\n",
    "df_cm = pd.DataFrame(cm, index = class_label, columns = class_label)\n",
    "sns.heatmap(df_cm, annot = True, fmt = \"d\")\n",
    "plt.title(\"Confusiion Matrix\")\n",
    "plt.xlabel(\"Predicted Label\")\n",
    "plt.ylabel(\"True Label\")\n",
    "plt.show()"
   ]
  },
  {
   "cell_type": "code",
   "execution_count": 16,
   "metadata": {},
   "outputs": [
    {
     "name": "stdout",
     "output_type": "stream",
     "text": [
      "             precision    recall  f1-score   support\n",
      "\n",
      "          0       0.71      0.71      0.71     38072\n",
      "          1       0.95      0.95      0.95    205922\n",
      "\n",
      "avg / total       0.91      0.91      0.91    243994\n",
      "\n"
     ]
    }
   ],
   "source": [
    "print(classification_report(y_train ,y_pred_bow))"
   ]
  },
  {
   "cell_type": "markdown",
   "metadata": {},
   "source": [
    "### Confusion Matrix on Test Data"
   ]
  },
  {
   "cell_type": "code",
   "execution_count": 17,
   "metadata": {},
   "outputs": [
    {
     "data": {
      "image/png": "[encoded data removed]",
      "text/plain": [
       "<Figure size 432x288 with 2 Axes>"
      ]
     },
     "metadata": {},
     "output_type": "display_data"
    }
   ],
   "source": [
    "# predict the response\n",
    "y_pred_bow = naive.predict(x_test_bow)\n",
    "\n",
    "#confusion matrix\n",
    "import seaborn as sns\n",
    "from sklearn.metrics import confusion_matrix,classification_report\n",
    "cm = confusion_matrix(y_test,y_pred_bow)\n",
    "class_label = [\"negative\", \"positive\"]\n",
    "df_cm = pd.DataFrame(cm, index = class_label, columns = class_label)\n",
    "sns.heatmap(df_cm, annot = True, fmt = \"d\")\n",
    "plt.title(\"Confusiion Matrix\")\n",
    "plt.xlabel(\"Predicted Label\")\n",
    "plt.ylabel(\"True Label\")\n",
    "plt.show()"
   ]
  },
  {
   "cell_type": "code",
   "execution_count": 18,
   "metadata": {},
   "outputs": [
    {
     "name": "stdout",
     "output_type": "stream",
     "text": [
      "             precision    recall  f1-score   support\n",
      "\n",
      "          0       0.71      0.68      0.69     19038\n",
      "          1       0.94      0.95      0.94    101139\n",
      "\n",
      "avg / total       0.90      0.90      0.90    120177\n",
      "\n"
     ]
    }
   ],
   "source": [
    "print(classification_report(y_test ,y_pred_bow))"
   ]
  },
  {
   "cell_type": "markdown",
   "metadata": {},
   "source": [
    "## Top 10 Positive and Negative Features"
   ]
  },
  {
   "cell_type": "code",
   "execution_count": 19,
   "metadata": {},
   "outputs": [
    {
     "name": "stdout",
     "output_type": "stream",
     "text": [
      " Important words in Positive Reviews \n",
      "29411 like\n",
      "50749 tast\n",
      "21652 good\n",
      "19036 flavor\n",
      "30077 love\n",
      "22119 great\n",
      "54710 use\n",
      "36095 one\n",
      "40458 product\n",
      "52857 tri\n",
      "-----------------------------------------\n",
      "Important words in Negative reviews\n",
      "50749 tast\n",
      "29411 like\n",
      "40458 product\n",
      "36095 one\n",
      "19036 flavor\n",
      "52857 tri\n",
      "57401 would\n",
      "54710 use\n",
      "21652 good\n",
      "10329 coffe\n"
     ]
    }
   ],
   "source": [
    "feature_names =count_vect.get_feature_names()\n",
    "max_ind_pos=np.argsort((naive.feature_log_prob_)[1])[::-1][0:10] \n",
    "max_ind_neg=np.argsort((naive.feature_log_prob_)[0])[::-1][0:10]\n",
    "\n",
    "print(\" Important words in Positive Reviews \")\n",
    "for i in max_ind_pos:\n",
    "    print(i,feature_names[i])\n",
    "print(\"-----------------------------------------\")\n",
    "print(\"Important words in Negative reviews\")\n",
    "for i in max_ind_neg:\n",
    "    print(i,feature_names[i])"
   ]
  },
  {
   "cell_type": "markdown",
   "metadata": {},
   "source": [
    "### Feature Engineering BOW"
   ]
  },
  {
   "cell_type": "code",
   "execution_count": 48,
   "metadata": {},
   "outputs": [],
   "source": [
    "#adding a column i.e Count of words in a review text to check if the performance of model increases or not\n",
    "x_train_fe = x_train[0:10000]\n",
    "y_train_fe = y_train[0:10000]\n",
    "x_test_fe = x_test[0:10000]\n",
    "y_test_fe = y_test[0:10000]\n",
    "count_train_words=[] \n",
    "for i in x_train_fe: \n",
    "    a=[] \n",
    "    a.append(len(i.split())) \n",
    "    count_train_words.append(a)\n",
    "count_test_words=[] \n",
    "for i in x_test_fe: \n",
    "    a=[] \n",
    "    a.append(len(i.split())) \n",
    "    count_test_words.append(a) \n",
    "    \n",
    "count_vect = CountVectorizer()\n",
    "\n",
    "x_train_bow_fe = count_vect.fit_transform(x_train_fe)\n",
    "x_test_bow_fe = count_vect.transform(x_test_fe) \n",
    "x_train_bow_fe = x_train_bow_fe.todense() \n",
    "x_test_bow_fe = x_test_bow_fe.todense() \n",
    "x_train_bow_fe=np.hstack((x_train_bow_fe,count_train_words)) \n",
    "x_test_bow_fe=np.hstack((x_test_bow_fe,count_test_words)) "
   ]
  },
  {
   "cell_type": "code",
   "execution_count": 49,
   "metadata": {},
   "outputs": [],
   "source": [
    "# standardizing the data so that the added feature will not behave as a outlier\n",
    "from sklearn.preprocessing import StandardScaler\n",
    "import warnings as wr\n",
    "wr.filterwarnings('ignore')\n",
    "x_train_bow_stand_fe = StandardScaler(with_mean = False).fit_transform(x_train_bow_fe)\n",
    "x_test_bow_stand_fe = StandardScaler(with_mean = False).fit_transform(x_test_bow_fe)"
   ]
  },
  {
   "cell_type": "code",
   "execution_count": 53,
   "metadata": {},
   "outputs": [
    {
     "name": "stdout",
     "output_type": "stream",
     "text": [
      "Best tunned parameter is {'alpha': 10}\n",
      "Train data accuracy is 68.063571% \n"
     ]
    },
    {
     "data": {
      "image/png": "[encoded data removed]",
      "text/plain": [
       "<Figure size 432x288 with 1 Axes>"
      ]
     },
     "metadata": {},
     "output_type": "display_data"
    }
   ],
   "source": [
    "alpha=optimal_alpha_val(x=x_train_bow_stand_fe,y=y_train_fe)"
   ]
  },
  {
   "cell_type": "code",
   "execution_count": 54,
   "metadata": {},
   "outputs": [
    {
     "data": {
      "image/png": "[encoded data removed]",
      "text/plain": [
       "<Figure size 432x288 with 1 Axes>"
      ]
     },
     "metadata": {},
     "output_type": "display_data"
    }
   ],
   "source": [
    "from sklearn.metrics import roc_curve, auc\n",
    "naive = MultinomialNB(alpha=alpha['alpha'])\n",
    "naive.fit(x_train_bow_stand_fe,y_train_fe)\n",
    "train_fpr, train_tpr, thresholds = roc_curve(y_train_fe, naive.predict_proba(x_train_bow_stand_fe)[:,1])\n",
    "test_fpr, test_tpr, thresholds = roc_curve(y_test_fe, naive.predict_proba(x_test_bow_stand_fe)[:,1])\n",
    "\n",
    "plt.plot(train_fpr, train_tpr, label=\"train AUC =\"+str(auc(train_fpr, train_tpr)))\n",
    "plt.plot(test_fpr, test_tpr, label=\"test AUC =\"+str(auc(test_fpr, test_tpr)))\n",
    "plt.legend()\n",
    "plt.xlabel(\"Alpha: hyperparameter\")\n",
    "plt.ylabel(\"AUC\")\n",
    "plt.title(\"ERROR PLOTS\")\n",
    "plt.show()"
   ]
  },
  {
   "cell_type": "markdown",
   "metadata": {},
   "source": [
    "### Confusion Matrix of Train Data"
   ]
  },
  {
   "cell_type": "code",
   "execution_count": 56,
   "metadata": {},
   "outputs": [
    {
     "data": {
      "image/png": "[encoded data removed]",
      "text/plain": [
       "<Figure size 432x288 with 2 Axes>"
      ]
     },
     "metadata": {},
     "output_type": "display_data"
    },
    {
     "name": "stdout",
     "output_type": "stream",
     "text": [
      "---------------------------------------------------------------\n",
      "             precision    recall  f1-score   support\n",
      "\n",
      "          0       0.77      0.90      0.83      1459\n",
      "          1       0.98      0.95      0.97      8541\n",
      "\n",
      "avg / total       0.95      0.95      0.95     10000\n",
      "\n"
     ]
    }
   ],
   "source": [
    "# predict the response\n",
    "y_pred_bow_fe = naive.predict(x_train_bow_stand_fe)\n",
    "\n",
    "#confusion matrix\n",
    "import seaborn as sns\n",
    "from sklearn.metrics import confusion_matrix,classification_report\n",
    "cm = confusion_matrix(y_train_fe,y_pred_bow_fe)\n",
    "class_label = [\"negative\", \"positive\"]\n",
    "df_cm = pd.DataFrame(cm, index = class_label, columns = class_label)\n",
    "sns.heatmap(df_cm, annot = True, fmt = \"d\")\n",
    "plt.title(\"Confusiion Matrix\")\n",
    "plt.xlabel(\"Predicted Label\")\n",
    "plt.ylabel(\"True Label\")\n",
    "plt.show()\n",
    "\n",
    "print('---------------------------------------------------------------')\n",
    "print(classification_report(y_train_fe ,y_pred_bow_fe))\n"
   ]
  },
  {
   "cell_type": "markdown",
   "metadata": {},
   "source": [
    "### Confusion Matrix on Test Data"
   ]
  },
  {
   "cell_type": "code",
   "execution_count": 57,
   "metadata": {},
   "outputs": [
    {
     "data": {
      "image/png": "[encoded data removed]",
      "text/plain": [
       "<Figure size 432x288 with 2 Axes>"
      ]
     },
     "metadata": {},
     "output_type": "display_data"
    },
    {
     "name": "stdout",
     "output_type": "stream",
     "text": [
      "---------------------------------------------------------------\n",
      "             precision    recall  f1-score   support\n",
      "\n",
      "          0       0.46      0.51      0.48      1575\n",
      "          1       0.91      0.89      0.90      8425\n",
      "\n",
      "avg / total       0.84      0.83      0.83     10000\n",
      "\n"
     ]
    }
   ],
   "source": [
    "# predict the response\n",
    "y_pred_bow_fe = naive.predict(x_test_bow_stand_fe)\n",
    "\n",
    "#confusion matrix\n",
    "import seaborn as sns\n",
    "from sklearn.metrics import confusion_matrix,classification_report\n",
    "cm = confusion_matrix(y_test_fe,y_pred_bow_fe)\n",
    "class_label = [\"negative\", \"positive\"]\n",
    "df_cm = pd.DataFrame(cm, index = class_label, columns = class_label)\n",
    "sns.heatmap(df_cm, annot = True, fmt = \"d\")\n",
    "plt.title(\"Confusiion Matrix\")\n",
    "plt.xlabel(\"Predicted Label\")\n",
    "plt.ylabel(\"True Label\")\n",
    "plt.show()\n",
    "\n",
    "print('---------------------------------------------------------------')\n",
    "print(classification_report(y_test_fe ,y_pred_bow_fe))\n"
   ]
  },
  {
   "cell_type": "markdown",
   "metadata": {},
   "source": [
    "## TF-IDF"
   ]
  },
  {
   "cell_type": "code",
   "execution_count": 58,
   "metadata": {},
   "outputs": [
    {
     "name": "stdout",
     "output_type": "stream",
     "text": [
      "(243994, 145294)\n",
      "(120177, 145294)\n"
     ]
    }
   ],
   "source": [
    "from sklearn.feature_extraction.text import TfidfTransformer\n",
    "from sklearn.feature_extraction.text import TfidfVectorizer\n",
    "tf_idf_vect = TfidfVectorizer(ngram_range=(1,2), min_df=10)\n",
    "x_train_tfidf = tf_idf_vect.fit_transform(x_train)\n",
    "x_test_tfidf = tf_idf_vect.transform(x_test)\n",
    "print(x_train_tfidf.shape)\n",
    "print(x_test_tfidf.shape)"
   ]
  },
  {
   "cell_type": "code",
   "execution_count": 59,
   "metadata": {},
   "outputs": [
    {
     "name": "stdout",
     "output_type": "stream",
     "text": [
      "Best tunned parameter is {'alpha': 0.01}\n",
      "Train data accuracy is 93.232790% \n"
     ]
    },
    {
     "data": {
      "image/png": "[encoded data removed]",
      "text/plain": [
       "<Figure size 432x288 with 1 Axes>"
      ]
     },
     "metadata": {},
     "output_type": "display_data"
    }
   ],
   "source": [
    "alpha=optimal_alpha_val(x=x_train_tfidf,y=y_train)"
   ]
  },
  {
   "cell_type": "markdown",
   "metadata": {},
   "source": [
    "###  Testing alpha on test data"
   ]
  },
  {
   "cell_type": "code",
   "execution_count": 60,
   "metadata": {},
   "outputs": [
    {
     "data": {
      "image/png": "[encoded data removed]",
      "text/plain": [
       "<Figure size 432x288 with 1 Axes>"
      ]
     },
     "metadata": {},
     "output_type": "display_data"
    }
   ],
   "source": [
    "from sklearn.metrics import roc_curve, auc\n",
    "naive = MultinomialNB(alpha=alpha['alpha'])\n",
    "naive.fit(x_train_tfidf,y_train)\n",
    "train_fpr, train_tpr, thresholds = roc_curve(y_train, naive.predict_proba(x_train_tfidf)[:,1])\n",
    "test_fpr, test_tpr, thresholds = roc_curve(y_test, naive.predict_proba(x_test_tfidf)[:,1])\n",
    "\n",
    "plt.plot(train_fpr, train_tpr, label=\"train AUC =\"+str(auc(train_fpr, train_tpr)))\n",
    "plt.plot(test_fpr, test_tpr, label=\"test AUC =\"+str(auc(test_fpr, test_tpr)))\n",
    "plt.legend()\n",
    "plt.xlabel(\"K: hyperparameter\")\n",
    "plt.ylabel(\"AUC\")\n",
    "plt.title(\"ERROR PLOTS\")\n",
    "plt.show()"
   ]
  },
  {
   "cell_type": "markdown",
   "metadata": {},
   "source": [
    "### Confusion Matrix on Train Data"
   ]
  },
  {
   "cell_type": "code",
   "execution_count": 61,
   "metadata": {},
   "outputs": [
    {
     "data": {
      "image/png": "[encoded data removed]",
      "text/plain": [
       "<Figure size 432x288 with 2 Axes>"
      ]
     },
     "metadata": {},
     "output_type": "display_data"
    }
   ],
   "source": [
    "# predict the response\n",
    "y_pred_tfidf = naive.predict(x_train_tfidf)\n",
    "\n",
    "#confusion matrix\n",
    "import seaborn as sns\n",
    "from sklearn.metrics import confusion_matrix,classification_report\n",
    "cm = confusion_matrix(y_train,y_pred_tfidf)\n",
    "class_label = [\"negative\", \"positive\"]\n",
    "df_cm = pd.DataFrame(cm, index = class_label, columns = class_label)\n",
    "sns.heatmap(df_cm, annot = True, fmt = \"d\")\n",
    "plt.title(\"Confusiion Matrix\")\n",
    "plt.xlabel(\"Predicted Label\")\n",
    "plt.ylabel(\"True Label\")\n",
    "plt.show()"
   ]
  },
  {
   "cell_type": "code",
   "execution_count": 62,
   "metadata": {},
   "outputs": [
    {
     "name": "stdout",
     "output_type": "stream",
     "text": [
      "             precision    recall  f1-score   support\n",
      "\n",
      "          0       0.93      0.69      0.79     38072\n",
      "          1       0.94      0.99      0.97    205922\n",
      "\n",
      "avg / total       0.94      0.94      0.94    243994\n",
      "\n"
     ]
    }
   ],
   "source": [
    "print(classification_report(y_train ,y_pred_tfidf))"
   ]
  },
  {
   "cell_type": "markdown",
   "metadata": {},
   "source": [
    "### Confusion Matrix on Test Data"
   ]
  },
  {
   "cell_type": "code",
   "execution_count": 63,
   "metadata": {},
   "outputs": [
    {
     "data": {
      "image/png": "[encoded data removed]",
      "text/plain": [
       "<Figure size 432x288 with 2 Axes>"
      ]
     },
     "metadata": {},
     "output_type": "display_data"
    }
   ],
   "source": [
    "# predict the response\n",
    "y_pred_tfidf = naive.predict(x_test_tfidf)\n",
    "\n",
    "#confusion matrix\n",
    "import seaborn as sns\n",
    "from sklearn.metrics import confusion_matrix,classification_report\n",
    "cm = confusion_matrix(y_test,y_pred_tfidf)\n",
    "class_label = [\"negative\", \"positive\"]\n",
    "df_cm = pd.DataFrame(cm, index = class_label, columns = class_label)\n",
    "sns.heatmap(df_cm, annot = True, fmt = \"d\")\n",
    "plt.title(\"Confusiion Matrix\")\n",
    "plt.xlabel(\"Predicted Label\")\n",
    "plt.ylabel(\"True Label\")\n",
    "plt.show()"
   ]
  },
  {
   "cell_type": "code",
   "execution_count": 64,
   "metadata": {},
   "outputs": [
    {
     "name": "stdout",
     "output_type": "stream",
     "text": [
      "             precision    recall  f1-score   support\n",
      "\n",
      "          0       0.88      0.51      0.65     19038\n",
      "          1       0.91      0.99      0.95    101139\n",
      "\n",
      "avg / total       0.91      0.91      0.90    120177\n",
      "\n"
     ]
    }
   ],
   "source": [
    "print(classification_report(y_test ,y_pred_tfidf))"
   ]
  },
  {
   "cell_type": "markdown",
   "metadata": {},
   "source": [
    "###  Top 10 Positive and Negative values using TF-IDF Vectorizer"
   ]
  },
  {
   "cell_type": "code",
   "execution_count": 65,
   "metadata": {},
   "outputs": [
    {
     "name": "stdout",
     "output_type": "stream",
     "text": [
      " Important words in Positive Reviews \n",
      "74731 love\n",
      "57151 great\n",
      "124759 tast\n",
      "70771 like\n",
      "55292 good\n",
      "126035 tea\n",
      "47908 flavor\n",
      "24618 coffe\n",
      "135210 use\n",
      "98950 product\n",
      "-----------------------------------------\n",
      "Important words in Negative reviews\n",
      "124759 tast\n",
      "98950 product\n",
      "70771 like\n",
      "143284 would\n",
      "47908 flavor\n",
      "87890 one\n",
      "24618 coffe\n",
      "132490 tri\n",
      "17307 buy\n",
      "89447 order\n"
     ]
    }
   ],
   "source": [
    "feature_names =tf_idf_vect.get_feature_names()\n",
    "max_ind_pos=np.argsort((naive.feature_log_prob_)[1])[::-1][0:10] \n",
    "max_ind_neg=np.argsort((naive.feature_log_prob_)[0])[::-1][0:10]\n",
    "\n",
    "print(\" Important words in Positive Reviews \")\n",
    "for i in max_ind_pos:\n",
    "    print(i,feature_names[i])\n",
    "print(\"-----------------------------------------\")\n",
    "print(\"Important words in Negative reviews\")\n",
    "for i in max_ind_neg:\n",
    "    print(i,feature_names[i])"
   ]
  },
  {
   "cell_type": "markdown",
   "metadata": {},
   "source": [
    "### Feature Engineering Tf-Idf"
   ]
  },
  {
   "cell_type": "code",
   "execution_count": 66,
   "metadata": {},
   "outputs": [],
   "source": [
    "#adding a column i.e Count of words in a review text to check if the performance of model increases or not\n",
    "x_train_fe = x_train[0:10000]\n",
    "y_train_fe = y_train[0:10000]\n",
    "x_test_fe = x_test[0:10000]\n",
    "y_test_fe = y_test[0:10000]\n",
    "count_train_words=[] \n",
    "for i in x_train_fe: \n",
    "    a=[] \n",
    "    a.append(len(i.split())) \n",
    "    count_train_words.append(a)\n",
    "count_test_words=[] \n",
    "for i in x_test_fe: \n",
    "    a=[] \n",
    "    a.append(len(i.split())) \n",
    "    count_test_words.append(a) \n",
    "    \n",
    "tf_idf_vect = TfidfVectorizer(ngram_range=(1,2), min_df=10)\n",
    "\n",
    "x_train_tfidf_fe = tf_idf_vect.fit_transform(x_train_fe)\n",
    "x_test_tfidf_fe = tf_idf_vect.transform(x_test_fe) \n",
    "x_train_tfidf_fe = x_train_tfidf_fe.todense() \n",
    "x_test_tfidf_fe = x_test_tfidf_fe.todense() \n",
    "x_train_tfidf_fe=np.hstack((x_train_tfidf_fe,count_train_words)) \n",
    "x_test_tfidf_fe=np.hstack((x_test_tfidf_fe,count_test_words)) "
   ]
  },
  {
   "cell_type": "code",
   "execution_count": 67,
   "metadata": {},
   "outputs": [],
   "source": [
    "# standardizing the data so that the added feature will not behave as a outlier\n",
    "from sklearn.preprocessing import StandardScaler\n",
    "import warnings as wr\n",
    "wr.filterwarnings('ignore')\n",
    "x_train_tfidf_stand_fe = StandardScaler(with_mean = False).fit_transform(x_train_tfidf_fe)\n",
    "x_test_tfidf_stand_fe = StandardScaler(with_mean = False).fit_transform(x_test_tfidf_fe)"
   ]
  },
  {
   "cell_type": "code",
   "execution_count": 68,
   "metadata": {},
   "outputs": [
    {
     "name": "stdout",
     "output_type": "stream",
     "text": [
      "Best tunned parameter is {'alpha': 100}\n",
      "Train data accuracy is 84.094337% \n"
     ]
    },
    {
     "data": {
      "image/png": "[encoded data removed]",
      "text/plain": [
       "<Figure size 432x288 with 1 Axes>"
      ]
     },
     "metadata": {},
     "output_type": "display_data"
    }
   ],
   "source": [
    "alpha=optimal_alpha_val(x=x_train_tfidf_stand_fe,y=y_train_fe)"
   ]
  },
  {
   "cell_type": "code",
   "execution_count": 69,
   "metadata": {},
   "outputs": [
    {
     "data": {
      "image/png": "[encoded data removed]",
      "text/plain": [
       "<Figure size 432x288 with 1 Axes>"
      ]
     },
     "metadata": {},
     "output_type": "display_data"
    }
   ],
   "source": [
    "from sklearn.metrics import roc_curve, auc\n",
    "naive = MultinomialNB(alpha=alpha['alpha'])\n",
    "naive.fit(x_train_tfidf_stand_fe,y_train_fe)\n",
    "train_fpr, train_tpr, thresholds = roc_curve(y_train_fe, naive.predict_proba(x_train_tfidf_stand_fe)[:,1])\n",
    "test_fpr, test_tpr, thresholds = roc_curve(y_test_fe, naive.predict_proba(x_test_tfidf_stand_fe)[:,1])\n",
    "\n",
    "plt.plot(train_fpr, train_tpr, label=\"train AUC =\"+str(auc(train_fpr, train_tpr)))\n",
    "plt.plot(test_fpr, test_tpr, label=\"test AUC =\"+str(auc(test_fpr, test_tpr)))\n",
    "plt.legend()\n",
    "plt.xlabel(\"Alpha: hyperparameter\")\n",
    "plt.ylabel(\"AUC\")\n",
    "plt.title(\"ERROR PLOTS\")\n",
    "plt.show()"
   ]
  },
  {
   "cell_type": "markdown",
   "metadata": {},
   "source": [
    "### Confusion Matrix of Train Data"
   ]
  },
  {
   "cell_type": "code",
   "execution_count": 70,
   "metadata": {},
   "outputs": [
    {
     "data": {
      "image/png": "[encoded data removed]",
      "text/plain": [
       "<Figure size 432x288 with 2 Axes>"
      ]
     },
     "metadata": {},
     "output_type": "display_data"
    },
    {
     "name": "stdout",
     "output_type": "stream",
     "text": [
      "---------------------------------------------------------------\n",
      "             precision    recall  f1-score   support\n",
      "\n",
      "          0       0.59      0.93      0.72      1459\n",
      "          1       0.99      0.89      0.94      8541\n",
      "\n",
      "avg / total       0.93      0.90      0.90     10000\n",
      "\n"
     ]
    }
   ],
   "source": [
    "# predict the response\n",
    "y_pred_tfidf_fe = naive.predict(x_train_tfidf_stand_fe)\n",
    "\n",
    "#confusion matrix\n",
    "import seaborn as sns\n",
    "from sklearn.metrics import confusion_matrix,classification_report\n",
    "cm = confusion_matrix(y_train_fe,y_pred_tfidf_fe)\n",
    "class_label = [\"negative\", \"positive\"]\n",
    "df_cm = pd.DataFrame(cm, index = class_label, columns = class_label)\n",
    "sns.heatmap(df_cm, annot = True, fmt = \"d\")\n",
    "plt.title(\"Confusiion Matrix\")\n",
    "plt.xlabel(\"Predicted Label\")\n",
    "plt.ylabel(\"True Label\")\n",
    "plt.show()\n",
    "\n",
    "print('---------------------------------------------------------------')\n",
    "print(classification_report(y_train_fe ,y_pred_tfidf_fe))\n"
   ]
  },
  {
   "cell_type": "markdown",
   "metadata": {},
   "source": [
    "### Confusion Matrix of Test Data"
   ]
  },
  {
   "cell_type": "code",
   "execution_count": 71,
   "metadata": {},
   "outputs": [
    {
     "data": {
      "image/png": "[encoded data removed]",
      "text/plain": [
       "<Figure size 432x288 with 2 Axes>"
      ]
     },
     "metadata": {},
     "output_type": "display_data"
    },
    {
     "name": "stdout",
     "output_type": "stream",
     "text": [
      "---------------------------------------------------------------\n",
      "             precision    recall  f1-score   support\n",
      "\n",
      "          0       0.50      0.77      0.61      1575\n",
      "          1       0.95      0.86      0.90      8425\n",
      "\n",
      "avg / total       0.88      0.84      0.86     10000\n",
      "\n"
     ]
    }
   ],
   "source": [
    "# predict the response\n",
    "y_pred_tfidf_fe = naive.predict(x_test_tfidf_stand_fe)\n",
    "\n",
    "#confusion matrix\n",
    "import seaborn as sns\n",
    "from sklearn.metrics import confusion_matrix,classification_report\n",
    "cm = confusion_matrix(y_test_fe,y_pred_tfidf_fe)\n",
    "class_label = [\"negative\", \"positive\"]\n",
    "df_cm = pd.DataFrame(cm, index = class_label, columns = class_label)\n",
    "sns.heatmap(df_cm, annot = True, fmt = \"d\")\n",
    "plt.title(\"Confusiion Matrix\")\n",
    "plt.xlabel(\"Predicted Label\")\n",
    "plt.ylabel(\"True Label\")\n",
    "plt.show()\n",
    "\n",
    "print('---------------------------------------------------------------')\n",
    "print(classification_report(y_test_fe ,y_pred_tfidf_fe))\n"
   ]
  },
  {
   "cell_type": "markdown",
   "metadata": {},
   "source": [
    "## Conclusion"
   ]
  },
  {
   "cell_type": "code",
   "execution_count": 46,
   "metadata": {
    "scrolled": true
   },
   "outputs": [
    {
     "name": "stdout",
     "output_type": "stream",
     "text": [
      "+-------------+---------------+-----------------------+------+\n",
      "| Vectorizer  |     Model     | Hyper Parameter/alpha | AUC  |\n",
      "+-------------+---------------+-----------------------+------+\n",
      "|     BOW     | MultinomialNB |           1           | 0.92 |\n",
      "|    TF-IDF   | MultinomialNB |          0.01         | 0.94 |\n",
      "+-------------+---------------+-----------------------+------+\n"
     ]
    }
   ],
   "source": [
    "#http://zetcode.com/python/prettytable/\n",
    "from prettytable import PrettyTable\n",
    "x = PrettyTable()\n",
    "x.field_names = [\"Vectorizer \", \"Model\", \"Hyper Parameter/alpha\", \"AUC\"]\n",
    "x.add_row([\"BOW\", \"MultinomialNB\", 1 , .92])\n",
    "x.add_row([\"TF-IDF\", \"MultinomialNB\", .01  , .94])\n",
    "\n",
    "print(x)"
   ]
  },
  {
   "cell_type": "markdown",
   "metadata": {},
   "source": [
    " "
   ]
  },
  {
   "cell_type": "markdown",
   "metadata": {},
   "source": [
    " ## Observation"
   ]
  },
  {
   "cell_type": "markdown",
   "metadata": {},
   "source": [
    "## BOW\n",
    "- While applying additive smoothing the optimal alpha value for BOW is 1\n",
    "- From the ROC curve we can see that using alpha = 1 the AUC of train and test data is approximately same\n",
    "- The f1-score for both train and test data comes approx 91% which proves that alpha = 1 is the best parameter for additive       smoothing\n",
    "- like,tast,good,flavor,use,one,product,tri are the most important words used in positive as well as in negative reviews\n",
    "\n",
    "### Feature Engineering\n",
    "- We can see a decline in performance of model after adding a new feature (count of words in the review text)\n",
    "- The AUC of test is decreased significantly after applying a new feature in comparision to the previous model\n",
    "- Thus this new feature is not a good feature for this model\n",
    "\n",
    "## TF-IDF\n",
    "- While applying additive smoothing the optimal alpha value for TF-IDF is .01\n",
    "- From the ROC curve we can see that AUC of test in TF-IDF vectorizer is more than of BOW vectorizer\n",
    "- tast,like,flavor,coffe,product are the most important words used in positive as well as in negative reviews\n",
    "\n",
    "### Feature Engineering\n",
    "- As we have used less number of points in feature engineering but after adding the new feature the performace of model is         same\n",
    "- After adding the new feature the alpha value is increased 10000 times which was increased 10 times in BOW feature               engineering\n",
    "\n",
    "-----------------------------------------------------------------------------------------------------------\n",
    "\n",
    "- Multinomial naive Bayes does not support -ve points so we have only used BOW and TF-IDF\n",
    "- Alpha is very low if we use sparse matrices instead of Dense Matrices\n",
    "- AUC for TF-IDF is slightly better in comparision with AUC of BOW\n",
    "- Love and Great are the two most important positive words also not used in negative reviews\n",
    "- Would is the most important negative word which is also not used in positive reviews"
   ]
  },
  {
   "cell_type": "code",
   "execution_count": null,
   "metadata": {},
   "outputs": [],
   "source": []
  }
 ],
 "metadata": {
  "kernelspec": {
   "display_name": "Python 3",
   "language": "python",
   "name": "python3"
  },
  "language_info": {
   "codemirror_mode": {
    "name": "ipython",
    "version": 3
   },
   "file_extension": ".py",
   "mimetype": "text/x-python",
   "name": "python",
   "nbconvert_exporter": "python",
   "pygments_lexer": "ipython3",
   "version": "3.6.5"
  }
 },
 "nbformat": 4,
 "nbformat_minor": 2
}
